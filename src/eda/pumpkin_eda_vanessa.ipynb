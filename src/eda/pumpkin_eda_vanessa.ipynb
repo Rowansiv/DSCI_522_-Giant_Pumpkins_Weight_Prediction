{
 "cells": [
  {
   "cell_type": "code",
   "execution_count": 2,
   "id": "e555ce27-0bdf-4a95-88c9-c083f2038f13",
   "metadata": {},
   "outputs": [
    {
     "name": "stderr",
     "output_type": "stream",
     "text": [
      "-- \u001b[1mAttaching packages\u001b[22m ------------------------------------------------------------------------------- tidyverse 1.3.1 --\n",
      "\n",
      "\u001b[32mv\u001b[39m \u001b[34mggplot2\u001b[39m 3.3.5     \u001b[32mv\u001b[39m \u001b[34mpurrr  \u001b[39m 0.3.4\n",
      "\u001b[32mv\u001b[39m \u001b[34mtibble \u001b[39m 3.1.4     \u001b[32mv\u001b[39m \u001b[34mdplyr  \u001b[39m 1.0.7\n",
      "\u001b[32mv\u001b[39m \u001b[34mtidyr  \u001b[39m 1.1.3     \u001b[32mv\u001b[39m \u001b[34mstringr\u001b[39m 1.4.0\n",
      "\u001b[32mv\u001b[39m \u001b[34mreadr  \u001b[39m 2.0.1     \u001b[32mv\u001b[39m \u001b[34mforcats\u001b[39m 0.5.1\n",
      "\n",
      "-- \u001b[1mConflicts\u001b[22m ---------------------------------------------------------------------------------- tidyverse_conflicts() --\n",
      "\u001b[31mx\u001b[39m \u001b[34mdplyr\u001b[39m::\u001b[32mfilter()\u001b[39m masks \u001b[34mstats\u001b[39m::filter()\n",
      "\u001b[31mx\u001b[39m \u001b[34mdplyr\u001b[39m::\u001b[32mlag()\u001b[39m    masks \u001b[34mstats\u001b[39m::lag()\n",
      "\n"
     ]
    },
    {
     "ename": "ERROR",
     "evalue": "Error in library(ggplot): there is no package called 'ggplot'\n",
     "output_type": "error",
     "traceback": [
      "Error in library(ggplot): there is no package called 'ggplot'\nTraceback:\n",
      "1. library(ggplot)"
     ]
    }
   ],
   "source": [
    "library(tidyverse)\n",
    "options(repr.matrix.max.rows = 10)\n",
    "library(ggplot)"
   ]
  },
  {
   "cell_type": "code",
   "execution_count": 4,
   "id": "d5fb5f87-ffcd-46c8-9222-915630943e82",
   "metadata": {},
   "outputs": [],
   "source": [
    "filepath <- \"../../data/raw/pumpkins.csv\"\n",
    "pumpkins <- read_csv(filepath, show_col_types = FALSE)"
   ]
  },
  {
   "cell_type": "code",
   "execution_count": 5,
   "id": "618f7225-f69b-4744-92da-c509db46ef8a",
   "metadata": {},
   "outputs": [
    {
     "name": "stdout",
     "output_type": "stream",
     "text": [
      "spec_tbl_df [28,065 x 14] (S3: spec_tbl_df/tbl_df/tbl/data.frame)\n",
      " $ id               : chr [1:28065] \"2013-F\" \"2013-F\" \"2013-F\" \"2013-F\" ...\n",
      " $ place            : chr [1:28065] \"1\" \"2\" \"3\" \"4\" ...\n",
      " $ weight_lbs       : chr [1:28065] \"154.50\" \"146.50\" \"145.00\" \"140.80\" ...\n",
      " $ grower_name      : chr [1:28065] \"Ellenbecker, Todd & Sequoia\" \"Razo, Steve\" \"Ellenbecker, Todd & Sequoia\" \"Martin, Margaret & Glen\" ...\n",
      " $ city             : chr [1:28065] \"Gleason\" \"New Middletown\" \"Glenson\" \"Combined Locks\" ...\n",
      " $ state_prov       : chr [1:28065] \"Wisconsin\" \"Ohio\" \"Wisconsin\" \"Wisconsin\" ...\n",
      " $ country          : chr [1:28065] \"United States\" \"United States\" \"United States\" \"United States\" ...\n",
      " $ gpc_site         : chr [1:28065] \"Nekoosa Giant Pumpkin Fest\" \"Ohio Valley Giant Pumpkin Growers Weigh-off\" \"Mishicot Pumpkin Fest\" \"Cedarburg Wine and Harvest Festival\" ...\n",
      " $ seed_mother      : chr [1:28065] \"209 Werner\" \"150.5 Snyder\" \"209 Werner\" \"109 Martin '12\" ...\n",
      " $ pollinator_father: chr [1:28065] \"Self\" NA \"103 Mackinnon\" \"209 Werner '12\" ...\n",
      " $ ott              : chr [1:28065] \"184.0\" \"194.0\" \"177.0\" \"194.0\" ...\n",
      " $ est_weight       : chr [1:28065] \"129.00\" \"151.00\" \"115.00\" \"151.00\" ...\n",
      " $ pct_chart        : chr [1:28065] \"20.0\" \"-3.0\" \"26.0\" \"-7.0\" ...\n",
      " $ variety          : chr [1:28065] NA NA NA NA ...\n",
      " - attr(*, \"spec\")=\n",
      "  .. cols(\n",
      "  ..   id = \u001b[31mcol_character()\u001b[39m,\n",
      "  ..   place = \u001b[31mcol_character()\u001b[39m,\n",
      "  ..   weight_lbs = \u001b[31mcol_character()\u001b[39m,\n",
      "  ..   grower_name = \u001b[31mcol_character()\u001b[39m,\n",
      "  ..   city = \u001b[31mcol_character()\u001b[39m,\n",
      "  ..   state_prov = \u001b[31mcol_character()\u001b[39m,\n",
      "  ..   country = \u001b[31mcol_character()\u001b[39m,\n",
      "  ..   gpc_site = \u001b[31mcol_character()\u001b[39m,\n",
      "  ..   seed_mother = \u001b[31mcol_character()\u001b[39m,\n",
      "  ..   pollinator_father = \u001b[31mcol_character()\u001b[39m,\n",
      "  ..   ott = \u001b[31mcol_character()\u001b[39m,\n",
      "  ..   est_weight = \u001b[31mcol_character()\u001b[39m,\n",
      "  ..   pct_chart = \u001b[31mcol_character()\u001b[39m,\n",
      "  ..   variety = \u001b[31mcol_character()\u001b[39m\n",
      "  .. )\n",
      " - attr(*, \"problems\")=<externalptr> \n"
     ]
    },
    {
     "data": {
      "text/html": [
       "<table class=\"dataframe\">\n",
       "<caption>A spec_tbl_df: 28065 × 14</caption>\n",
       "<thead>\n",
       "\t<tr><th scope=col>id</th><th scope=col>place</th><th scope=col>weight_lbs</th><th scope=col>grower_name</th><th scope=col>city</th><th scope=col>state_prov</th><th scope=col>country</th><th scope=col>gpc_site</th><th scope=col>seed_mother</th><th scope=col>pollinator_father</th><th scope=col>ott</th><th scope=col>est_weight</th><th scope=col>pct_chart</th><th scope=col>variety</th></tr>\n",
       "\t<tr><th scope=col>&lt;chr&gt;</th><th scope=col>&lt;chr&gt;</th><th scope=col>&lt;chr&gt;</th><th scope=col>&lt;chr&gt;</th><th scope=col>&lt;chr&gt;</th><th scope=col>&lt;chr&gt;</th><th scope=col>&lt;chr&gt;</th><th scope=col>&lt;chr&gt;</th><th scope=col>&lt;chr&gt;</th><th scope=col>&lt;chr&gt;</th><th scope=col>&lt;chr&gt;</th><th scope=col>&lt;chr&gt;</th><th scope=col>&lt;chr&gt;</th><th scope=col>&lt;chr&gt;</th></tr>\n",
       "</thead>\n",
       "<tbody>\n",
       "\t<tr><td>2013-F</td><td>1</td><td>154.50</td><td>Ellenbecker, Todd &amp; Sequoia</td><td><span style=white-space:pre-wrap>Gleason       </span></td><td>Wisconsin</td><td>United States</td><td><span style=white-space:pre-wrap>Nekoosa Giant Pumpkin Fest                 </span></td><td><span style=white-space:pre-wrap>209 Werner    </span></td><td><span style=white-space:pre-wrap>Self          </span></td><td>184.0</td><td>129.00</td><td>20.0</td><td>NA</td></tr>\n",
       "\t<tr><td>2013-F</td><td>2</td><td>146.50</td><td>Razo, Steve                </td><td>New Middletown</td><td>Ohio     </td><td>United States</td><td>Ohio Valley Giant Pumpkin Growers Weigh-off</td><td>150.5 Snyder  </td><td>NA            </td><td>194.0</td><td>151.00</td><td>-3.0</td><td>NA</td></tr>\n",
       "\t<tr><td>2013-F</td><td>3</td><td>145.00</td><td>Ellenbecker, Todd &amp; Sequoia</td><td><span style=white-space:pre-wrap>Glenson       </span></td><td>Wisconsin</td><td>United States</td><td><span style=white-space:pre-wrap>Mishicot Pumpkin Fest                      </span></td><td><span style=white-space:pre-wrap>209 Werner    </span></td><td>103 Mackinnon </td><td>177.0</td><td>115.00</td><td>26.0</td><td>NA</td></tr>\n",
       "\t<tr><td>2013-F</td><td>4</td><td>140.80</td><td><span style=white-space:pre-wrap>Martin, Margaret &amp; Glen    </span></td><td>Combined Locks</td><td>Wisconsin</td><td>United States</td><td><span style=white-space:pre-wrap>Cedarburg Wine and Harvest Festival        </span></td><td>109 Martin '12</td><td>209 Werner '12</td><td>194.0</td><td>151.00</td><td>-7.0</td><td>NA</td></tr>\n",
       "\t<tr><td>2013-F</td><td>5</td><td>139.00</td><td>Barlow, John               </td><td>NA            </td><td>Wisconsin</td><td>United States</td><td>Stillwater Harvestfest                     </td><td>130.5 McKinnon</td><td>open          </td><td>0.0  </td><td>0.00  </td><td>0.0 </td><td>NA</td></tr>\n",
       "\t<tr><td>...</td><td>...</td><td>...</td><td>...</td><td>...</td><td>...</td><td>...</td><td>...</td><td>...</td><td>...</td><td>...</td><td>...</td><td>...</td><td>...</td></tr>\n",
       "\t<tr><td>2021-W</td><td>DMG                                                                               </td><td>159.50                                                                            </td><td>Huber, Brandon                                                                    </td><td>Raleigh                                                                           </td><td>North Carolina                                                                    </td><td>United States                                                                     </td><td>Yadkin Valley Pumpkin Weigh-off                                                   </td><td>330 Vial                                                                          </td><td>NA                                                                                </td><td>175.0                                                                             </td><td>152.00                                                                            </td><td>5.0                                                                               </td><td>NA</td></tr>\n",
       "\t<tr><td>2021-W</td><td>DMG                                                                               </td><td>141.00                                                                            </td><td>Vester, Danny                                                                     </td><td>Spring Hope                                                                       </td><td>North Carolina                                                                    </td><td>United States                                                                     </td><td>Tennessee Valley Fair                                                             </td><td>305 Vial                                                                          </td><td>NA                                                                                </td><td>169.0                                                                             </td><td>139.00                                                                            </td><td>1.0                                                                               </td><td>NA</td></tr>\n",
       "\t<tr><td>2021-W</td><td>DMG                                                                               </td><td>116.50                                                                            </td><td>bradley, jeffrey                                                                  </td><td>rocky mount                                                                       </td><td>North Carolina                                                                    </td><td>United States                                                                     </td><td>Spring Hope National Pumpkin Festival                                             </td><td>unknow                                                                            </td><td>NA                                                                                </td><td>159.0                                                                             </td><td>116.00                                                                            </td><td>0.0                                                                               </td><td>NA</td></tr>\n",
       "\t<tr><td>2021-W</td><td>DMG                                                                               </td><td>16.30                                                                             </td><td>Kyro, Anni                                                                        </td><td>Orimattila                                                                        </td><td>Paijanne Tavastia                                                                 </td><td>Finland                                                                           </td><td>Finnish Weigh-off                                                                 </td><td>var. Carolina Cross -20                                                           </td><td>NA                                                                                </td><td>0.0                                                                               </td><td>0.00                                                                              </td><td>0.0                                                                               </td><td>NA</td></tr>\n",
       "\t<tr><td>2021-W</td><td>253 Entries.\r\n",
       "\t\t\t\t\t\t\r\n",
       "\t\t\t\t\t\t\t(18 exhibition only,\r\n",
       "               5 damaged)</td><td>253 Entries.\r\n",
       "\t\t\t\t\t\t\r\n",
       "\t\t\t\t\t\t\t(18 exhibition only,\r\n",
       "               5 damaged)</td><td>253 Entries.\r\n",
       "\t\t\t\t\t\t\r\n",
       "\t\t\t\t\t\t\t(18 exhibition only,\r\n",
       "               5 damaged)</td><td>253 Entries.\r\n",
       "\t\t\t\t\t\t\r\n",
       "\t\t\t\t\t\t\t(18 exhibition only,\r\n",
       "               5 damaged)</td><td>253 Entries.\r\n",
       "\t\t\t\t\t\t\r\n",
       "\t\t\t\t\t\t\t(18 exhibition only,\r\n",
       "               5 damaged)</td><td>253 Entries.\r\n",
       "\t\t\t\t\t\t\r\n",
       "\t\t\t\t\t\t\t(18 exhibition only,\r\n",
       "               5 damaged)</td><td>253 Entries.\r\n",
       "\t\t\t\t\t\t\r\n",
       "\t\t\t\t\t\t\t(18 exhibition only,\r\n",
       "               5 damaged)</td><td>253 Entries.\r\n",
       "\t\t\t\t\t\t\r\n",
       "\t\t\t\t\t\t\t(18 exhibition only,\r\n",
       "               5 damaged)</td><td>253 Entries.\r\n",
       "\t\t\t\t\t\t\r\n",
       "\t\t\t\t\t\t\t(18 exhibition only,\r\n",
       "               5 damaged)</td><td>253 Entries.\r\n",
       "\t\t\t\t\t\t\r\n",
       "\t\t\t\t\t\t\t(18 exhibition only,\r\n",
       "               5 damaged)</td><td>253 Entries.\r\n",
       "\t\t\t\t\t\t\r\n",
       "\t\t\t\t\t\t\t(18 exhibition only,\r\n",
       "               5 damaged)</td><td>253 Entries.\r\n",
       "\t\t\t\t\t\t\r\n",
       "\t\t\t\t\t\t\t(18 exhibition only,\r\n",
       "               5 damaged)</td><td>NA</td></tr>\n",
       "</tbody>\n",
       "</table>\n"
      ],
      "text/latex": [
       "A spec\\_tbl\\_df: 28065 × 14\n",
       "\\begin{tabular}{llllllllllllll}\n",
       " id & place & weight\\_lbs & grower\\_name & city & state\\_prov & country & gpc\\_site & seed\\_mother & pollinator\\_father & ott & est\\_weight & pct\\_chart & variety\\\\\n",
       " <chr> & <chr> & <chr> & <chr> & <chr> & <chr> & <chr> & <chr> & <chr> & <chr> & <chr> & <chr> & <chr> & <chr>\\\\\n",
       "\\hline\n",
       "\t 2013-F & 1 & 154.50 & Ellenbecker, Todd \\& Sequoia & Gleason        & Wisconsin & United States & Nekoosa Giant Pumpkin Fest                  & 209 Werner     & Self           & 184.0 & 129.00 & 20.0 & NA\\\\\n",
       "\t 2013-F & 2 & 146.50 & Razo, Steve                 & New Middletown & Ohio      & United States & Ohio Valley Giant Pumpkin Growers Weigh-off & 150.5 Snyder   & NA             & 194.0 & 151.00 & -3.0 & NA\\\\\n",
       "\t 2013-F & 3 & 145.00 & Ellenbecker, Todd \\& Sequoia & Glenson        & Wisconsin & United States & Mishicot Pumpkin Fest                       & 209 Werner     & 103 Mackinnon  & 177.0 & 115.00 & 26.0 & NA\\\\\n",
       "\t 2013-F & 4 & 140.80 & Martin, Margaret \\& Glen     & Combined Locks & Wisconsin & United States & Cedarburg Wine and Harvest Festival         & 109 Martin '12 & 209 Werner '12 & 194.0 & 151.00 & -7.0 & NA\\\\\n",
       "\t 2013-F & 5 & 139.00 & Barlow, John                & NA             & Wisconsin & United States & Stillwater Harvestfest                      & 130.5 McKinnon & open           & 0.0   & 0.00   & 0.0  & NA\\\\\n",
       "\t ... & ... & ... & ... & ... & ... & ... & ... & ... & ... & ... & ... & ... & ...\\\\\n",
       "\t 2021-W & DMG                                                                                & 159.50                                                                             & Huber, Brandon                                                                     & Raleigh                                                                            & North Carolina                                                                     & United States                                                                      & Yadkin Valley Pumpkin Weigh-off                                                    & 330 Vial                                                                           & NA                                                                                 & 175.0                                                                              & 152.00                                                                             & 5.0                                                                                & NA\\\\\n",
       "\t 2021-W & DMG                                                                                & 141.00                                                                             & Vester, Danny                                                                      & Spring Hope                                                                        & North Carolina                                                                     & United States                                                                      & Tennessee Valley Fair                                                              & 305 Vial                                                                           & NA                                                                                 & 169.0                                                                              & 139.00                                                                             & 1.0                                                                                & NA\\\\\n",
       "\t 2021-W & DMG                                                                                & 116.50                                                                             & bradley, jeffrey                                                                   & rocky mount                                                                        & North Carolina                                                                     & United States                                                                      & Spring Hope National Pumpkin Festival                                              & unknow                                                                             & NA                                                                                 & 159.0                                                                              & 116.00                                                                             & 0.0                                                                                & NA\\\\\n",
       "\t 2021-W & DMG                                                                                & 16.30                                                                              & Kyro, Anni                                                                         & Orimattila                                                                         & Paijanne Tavastia                                                                  & Finland                                                                            & Finnish Weigh-off                                                                  & var. Carolina Cross -20                                                            & NA                                                                                 & 0.0                                                                                & 0.00                                                                               & 0.0                                                                                & NA\\\\\n",
       "\t 2021-W & 253 Entries.\r\n",
       "\t\t\t\t\t\t\r\n",
       "\t\t\t\t\t\t\t(18 exhibition only,\r\n",
       "               5 damaged) & 253 Entries.\r\n",
       "\t\t\t\t\t\t\r\n",
       "\t\t\t\t\t\t\t(18 exhibition only,\r\n",
       "               5 damaged) & 253 Entries.\r\n",
       "\t\t\t\t\t\t\r\n",
       "\t\t\t\t\t\t\t(18 exhibition only,\r\n",
       "               5 damaged) & 253 Entries.\r\n",
       "\t\t\t\t\t\t\r\n",
       "\t\t\t\t\t\t\t(18 exhibition only,\r\n",
       "               5 damaged) & 253 Entries.\r\n",
       "\t\t\t\t\t\t\r\n",
       "\t\t\t\t\t\t\t(18 exhibition only,\r\n",
       "               5 damaged) & 253 Entries.\r\n",
       "\t\t\t\t\t\t\r\n",
       "\t\t\t\t\t\t\t(18 exhibition only,\r\n",
       "               5 damaged) & 253 Entries.\r\n",
       "\t\t\t\t\t\t\r\n",
       "\t\t\t\t\t\t\t(18 exhibition only,\r\n",
       "               5 damaged) & 253 Entries.\r\n",
       "\t\t\t\t\t\t\r\n",
       "\t\t\t\t\t\t\t(18 exhibition only,\r\n",
       "               5 damaged) & 253 Entries.\r\n",
       "\t\t\t\t\t\t\r\n",
       "\t\t\t\t\t\t\t(18 exhibition only,\r\n",
       "               5 damaged) & 253 Entries.\r\n",
       "\t\t\t\t\t\t\r\n",
       "\t\t\t\t\t\t\t(18 exhibition only,\r\n",
       "               5 damaged) & 253 Entries.\r\n",
       "\t\t\t\t\t\t\r\n",
       "\t\t\t\t\t\t\t(18 exhibition only,\r\n",
       "               5 damaged) & 253 Entries.\r\n",
       "\t\t\t\t\t\t\r\n",
       "\t\t\t\t\t\t\t(18 exhibition only,\r\n",
       "               5 damaged) & NA\\\\\n",
       "\\end{tabular}\n"
      ],
      "text/markdown": [
       "\n",
       "A spec_tbl_df: 28065 × 14\n",
       "\n",
       "| id &lt;chr&gt; | place &lt;chr&gt; | weight_lbs &lt;chr&gt; | grower_name &lt;chr&gt; | city &lt;chr&gt; | state_prov &lt;chr&gt; | country &lt;chr&gt; | gpc_site &lt;chr&gt; | seed_mother &lt;chr&gt; | pollinator_father &lt;chr&gt; | ott &lt;chr&gt; | est_weight &lt;chr&gt; | pct_chart &lt;chr&gt; | variety &lt;chr&gt; |\n",
       "|---|---|---|---|---|---|---|---|---|---|---|---|---|---|\n",
       "| 2013-F | 1 | 154.50 | Ellenbecker, Todd &amp; Sequoia | Gleason        | Wisconsin | United States | Nekoosa Giant Pumpkin Fest                  | 209 Werner     | Self           | 184.0 | 129.00 | 20.0 | NA |\n",
       "| 2013-F | 2 | 146.50 | Razo, Steve                 | New Middletown | Ohio      | United States | Ohio Valley Giant Pumpkin Growers Weigh-off | 150.5 Snyder   | NA             | 194.0 | 151.00 | -3.0 | NA |\n",
       "| 2013-F | 3 | 145.00 | Ellenbecker, Todd &amp; Sequoia | Glenson        | Wisconsin | United States | Mishicot Pumpkin Fest                       | 209 Werner     | 103 Mackinnon  | 177.0 | 115.00 | 26.0 | NA |\n",
       "| 2013-F | 4 | 140.80 | Martin, Margaret &amp; Glen     | Combined Locks | Wisconsin | United States | Cedarburg Wine and Harvest Festival         | 109 Martin '12 | 209 Werner '12 | 194.0 | 151.00 | -7.0 | NA |\n",
       "| 2013-F | 5 | 139.00 | Barlow, John                | NA             | Wisconsin | United States | Stillwater Harvestfest                      | 130.5 McKinnon | open           | 0.0   | 0.00   | 0.0  | NA |\n",
       "| ... | ... | ... | ... | ... | ... | ... | ... | ... | ... | ... | ... | ... | ... |\n",
       "| 2021-W | DMG                                                                                | 159.50                                                                             | Huber, Brandon                                                                     | Raleigh                                                                            | North Carolina                                                                     | United States                                                                      | Yadkin Valley Pumpkin Weigh-off                                                    | 330 Vial                                                                           | NA                                                                                 | 175.0                                                                              | 152.00                                                                             | 5.0                                                                                | NA |\n",
       "| 2021-W | DMG                                                                                | 141.00                                                                             | Vester, Danny                                                                      | Spring Hope                                                                        | North Carolina                                                                     | United States                                                                      | Tennessee Valley Fair                                                              | 305 Vial                                                                           | NA                                                                                 | 169.0                                                                              | 139.00                                                                             | 1.0                                                                                | NA |\n",
       "| 2021-W | DMG                                                                                | 116.50                                                                             | bradley, jeffrey                                                                   | rocky mount                                                                        | North Carolina                                                                     | United States                                                                      | Spring Hope National Pumpkin Festival                                              | unknow                                                                             | NA                                                                                 | 159.0                                                                              | 116.00                                                                             | 0.0                                                                                | NA |\n",
       "| 2021-W | DMG                                                                                | 16.30                                                                              | Kyro, Anni                                                                         | Orimattila                                                                         | Paijanne Tavastia                                                                  | Finland                                                                            | Finnish Weigh-off                                                                  | var. Carolina Cross -20                                                            | NA                                                                                 | 0.0                                                                                | 0.00                                                                               | 0.0                                                                                | NA |\n",
       "| 2021-W | 253 Entries.\r\n",
       "\t\t\t\t\t\t\r\n",
       "\t\t\t\t\t\t\t(18 exhibition only,\r\n",
       "               5 damaged) | 253 Entries.\r\n",
       "\t\t\t\t\t\t\r\n",
       "\t\t\t\t\t\t\t(18 exhibition only,\r\n",
       "               5 damaged) | 253 Entries.\r\n",
       "\t\t\t\t\t\t\r\n",
       "\t\t\t\t\t\t\t(18 exhibition only,\r\n",
       "               5 damaged) | 253 Entries.\r\n",
       "\t\t\t\t\t\t\r\n",
       "\t\t\t\t\t\t\t(18 exhibition only,\r\n",
       "               5 damaged) | 253 Entries.\r\n",
       "\t\t\t\t\t\t\r\n",
       "\t\t\t\t\t\t\t(18 exhibition only,\r\n",
       "               5 damaged) | 253 Entries.\r\n",
       "\t\t\t\t\t\t\r\n",
       "\t\t\t\t\t\t\t(18 exhibition only,\r\n",
       "               5 damaged) | 253 Entries.\r\n",
       "\t\t\t\t\t\t\r\n",
       "\t\t\t\t\t\t\t(18 exhibition only,\r\n",
       "               5 damaged) | 253 Entries.\r\n",
       "\t\t\t\t\t\t\r\n",
       "\t\t\t\t\t\t\t(18 exhibition only,\r\n",
       "               5 damaged) | 253 Entries.\r\n",
       "\t\t\t\t\t\t\r\n",
       "\t\t\t\t\t\t\t(18 exhibition only,\r\n",
       "               5 damaged) | 253 Entries.\r\n",
       "\t\t\t\t\t\t\r\n",
       "\t\t\t\t\t\t\t(18 exhibition only,\r\n",
       "               5 damaged) | 253 Entries.\r\n",
       "\t\t\t\t\t\t\r\n",
       "\t\t\t\t\t\t\t(18 exhibition only,\r\n",
       "               5 damaged) | 253 Entries.\r\n",
       "\t\t\t\t\t\t\r\n",
       "\t\t\t\t\t\t\t(18 exhibition only,\r\n",
       "               5 damaged) | NA |\n",
       "\n"
      ],
      "text/plain": [
       "      id    \n",
       "1     2013-F\n",
       "2     2013-F\n",
       "3     2013-F\n",
       "4     2013-F\n",
       "5     2013-F\n",
       "...   ...   \n",
       "28061 2021-W\n",
       "28062 2021-W\n",
       "28063 2021-W\n",
       "28064 2021-W\n",
       "28065 2021-W\n",
       "      place                                                                             \n",
       "1     1                                                                                 \n",
       "2     2                                                                                 \n",
       "3     3                                                                                 \n",
       "4     4                                                                                 \n",
       "5     5                                                                                 \n",
       "...   ...                                                                               \n",
       "28061 DMG                                                                               \n",
       "28062 DMG                                                                               \n",
       "28063 DMG                                                                               \n",
       "28064 DMG                                                                               \n",
       "28065 253 Entries.\\r\\n\\t\\t\\t\\t\\t\\t\\r\\n\\t\\t\\t\\t\\t\\t\\t(18 exhibition only,\\r\\n               5 damaged)\n",
       "      weight_lbs                                                                        \n",
       "1     154.50                                                                            \n",
       "2     146.50                                                                            \n",
       "3     145.00                                                                            \n",
       "4     140.80                                                                            \n",
       "5     139.00                                                                            \n",
       "...   ...                                                                               \n",
       "28061 159.50                                                                            \n",
       "28062 141.00                                                                            \n",
       "28063 116.50                                                                            \n",
       "28064 16.30                                                                             \n",
       "28065 253 Entries.\\r\\n\\t\\t\\t\\t\\t\\t\\r\\n\\t\\t\\t\\t\\t\\t\\t(18 exhibition only,\\r\\n               5 damaged)\n",
       "      grower_name                                                                       \n",
       "1     Ellenbecker, Todd & Sequoia                                                       \n",
       "2     Razo, Steve                                                                       \n",
       "3     Ellenbecker, Todd & Sequoia                                                       \n",
       "4     Martin, Margaret & Glen                                                           \n",
       "5     Barlow, John                                                                      \n",
       "...   ...                                                                               \n",
       "28061 Huber, Brandon                                                                    \n",
       "28062 Vester, Danny                                                                     \n",
       "28063 bradley, jeffrey                                                                  \n",
       "28064 Kyro, Anni                                                                        \n",
       "28065 253 Entries.\\r\\n\\t\\t\\t\\t\\t\\t\\r\\n\\t\\t\\t\\t\\t\\t\\t(18 exhibition only,\\r\\n               5 damaged)\n",
       "      city                                                                              \n",
       "1     Gleason                                                                           \n",
       "2     New Middletown                                                                    \n",
       "3     Glenson                                                                           \n",
       "4     Combined Locks                                                                    \n",
       "5     NA                                                                                \n",
       "...   ...                                                                               \n",
       "28061 Raleigh                                                                           \n",
       "28062 Spring Hope                                                                       \n",
       "28063 rocky mount                                                                       \n",
       "28064 Orimattila                                                                        \n",
       "28065 253 Entries.\\r\\n\\t\\t\\t\\t\\t\\t\\r\\n\\t\\t\\t\\t\\t\\t\\t(18 exhibition only,\\r\\n               5 damaged)\n",
       "      state_prov                                                                        \n",
       "1     Wisconsin                                                                         \n",
       "2     Ohio                                                                              \n",
       "3     Wisconsin                                                                         \n",
       "4     Wisconsin                                                                         \n",
       "5     Wisconsin                                                                         \n",
       "...   ...                                                                               \n",
       "28061 North Carolina                                                                    \n",
       "28062 North Carolina                                                                    \n",
       "28063 North Carolina                                                                    \n",
       "28064 Paijanne Tavastia                                                                 \n",
       "28065 253 Entries.\\r\\n\\t\\t\\t\\t\\t\\t\\r\\n\\t\\t\\t\\t\\t\\t\\t(18 exhibition only,\\r\\n               5 damaged)\n",
       "      country                                                                           \n",
       "1     United States                                                                     \n",
       "2     United States                                                                     \n",
       "3     United States                                                                     \n",
       "4     United States                                                                     \n",
       "5     United States                                                                     \n",
       "...   ...                                                                               \n",
       "28061 United States                                                                     \n",
       "28062 United States                                                                     \n",
       "28063 United States                                                                     \n",
       "28064 Finland                                                                           \n",
       "28065 253 Entries.\\r\\n\\t\\t\\t\\t\\t\\t\\r\\n\\t\\t\\t\\t\\t\\t\\t(18 exhibition only,\\r\\n               5 damaged)\n",
       "      gpc_site                                                                          \n",
       "1     Nekoosa Giant Pumpkin Fest                                                        \n",
       "2     Ohio Valley Giant Pumpkin Growers Weigh-off                                       \n",
       "3     Mishicot Pumpkin Fest                                                             \n",
       "4     Cedarburg Wine and Harvest Festival                                               \n",
       "5     Stillwater Harvestfest                                                            \n",
       "...   ...                                                                               \n",
       "28061 Yadkin Valley Pumpkin Weigh-off                                                   \n",
       "28062 Tennessee Valley Fair                                                             \n",
       "28063 Spring Hope National Pumpkin Festival                                             \n",
       "28064 Finnish Weigh-off                                                                 \n",
       "28065 253 Entries.\\r\\n\\t\\t\\t\\t\\t\\t\\r\\n\\t\\t\\t\\t\\t\\t\\t(18 exhibition only,\\r\\n               5 damaged)\n",
       "      seed_mother                                                                       \n",
       "1     209 Werner                                                                        \n",
       "2     150.5 Snyder                                                                      \n",
       "3     209 Werner                                                                        \n",
       "4     109 Martin '12                                                                    \n",
       "5     130.5 McKinnon                                                                    \n",
       "...   ...                                                                               \n",
       "28061 330 Vial                                                                          \n",
       "28062 305 Vial                                                                          \n",
       "28063 unknow                                                                            \n",
       "28064 var. Carolina Cross -20                                                           \n",
       "28065 253 Entries.\\r\\n\\t\\t\\t\\t\\t\\t\\r\\n\\t\\t\\t\\t\\t\\t\\t(18 exhibition only,\\r\\n               5 damaged)\n",
       "      pollinator_father                                                                 \n",
       "1     Self                                                                              \n",
       "2     NA                                                                                \n",
       "3     103 Mackinnon                                                                     \n",
       "4     209 Werner '12                                                                    \n",
       "5     open                                                                              \n",
       "...   ...                                                                               \n",
       "28061 NA                                                                                \n",
       "28062 NA                                                                                \n",
       "28063 NA                                                                                \n",
       "28064 NA                                                                                \n",
       "28065 253 Entries.\\r\\n\\t\\t\\t\\t\\t\\t\\r\\n\\t\\t\\t\\t\\t\\t\\t(18 exhibition only,\\r\\n               5 damaged)\n",
       "      ott                                                                               \n",
       "1     184.0                                                                             \n",
       "2     194.0                                                                             \n",
       "3     177.0                                                                             \n",
       "4     194.0                                                                             \n",
       "5     0.0                                                                               \n",
       "...   ...                                                                               \n",
       "28061 175.0                                                                             \n",
       "28062 169.0                                                                             \n",
       "28063 159.0                                                                             \n",
       "28064 0.0                                                                               \n",
       "28065 253 Entries.\\r\\n\\t\\t\\t\\t\\t\\t\\r\\n\\t\\t\\t\\t\\t\\t\\t(18 exhibition only,\\r\\n               5 damaged)\n",
       "      est_weight                                                                        \n",
       "1     129.00                                                                            \n",
       "2     151.00                                                                            \n",
       "3     115.00                                                                            \n",
       "4     151.00                                                                            \n",
       "5     0.00                                                                              \n",
       "...   ...                                                                               \n",
       "28061 152.00                                                                            \n",
       "28062 139.00                                                                            \n",
       "28063 116.00                                                                            \n",
       "28064 0.00                                                                              \n",
       "28065 253 Entries.\\r\\n\\t\\t\\t\\t\\t\\t\\r\\n\\t\\t\\t\\t\\t\\t\\t(18 exhibition only,\\r\\n               5 damaged)\n",
       "      pct_chart                                                                         \n",
       "1     20.0                                                                              \n",
       "2     -3.0                                                                              \n",
       "3     26.0                                                                              \n",
       "4     -7.0                                                                              \n",
       "5     0.0                                                                               \n",
       "...   ...                                                                               \n",
       "28061 5.0                                                                               \n",
       "28062 1.0                                                                               \n",
       "28063 0.0                                                                               \n",
       "28064 0.0                                                                               \n",
       "28065 253 Entries.\\r\\n\\t\\t\\t\\t\\t\\t\\r\\n\\t\\t\\t\\t\\t\\t\\t(18 exhibition only,\\r\\n               5 damaged)\n",
       "      variety\n",
       "1     NA     \n",
       "2     NA     \n",
       "3     NA     \n",
       "4     NA     \n",
       "5     NA     \n",
       "...   ...    \n",
       "28061 NA     \n",
       "28062 NA     \n",
       "28063 NA     \n",
       "28064 NA     \n",
       "28065 NA     "
      ]
     },
     "metadata": {},
     "output_type": "display_data"
    }
   ],
   "source": [
    "str(pumpkins)\n",
    "pumpkins"
   ]
  },
  {
   "cell_type": "code",
   "execution_count": 4,
   "id": "fe712ed9-5d27-4c00-8cde-6e21976c4f9d",
   "metadata": {},
   "outputs": [
    {
     "name": "stderr",
     "output_type": "stream",
     "text": [
      "Warning message in mask$eval_all_mutate(quo):\n",
      "\"NAs introduced by coercion\"\n",
      "Warning message in mask$eval_all_mutate(quo):\n",
      "\"NAs introduced by coercion\"\n"
     ]
    }
   ],
   "source": [
    "# tidyup data\n",
    "# 1. with the word 'damaged' in the the place column\n",
    "# 2. with weight_lbs = 0\n",
    "# 3. convert weight_lbs from char to numeric\n",
    "pumpkins_tidy <- pumpkins |>\n",
    "  filter(!str_detect(place, \".damaged.\") & weight_lbs > 0) |>\n",
    "  mutate(\n",
    "    weight_lbs = as.numeric(weight_lbs),\n",
    "    ott = as.numeric(ott),\n",
    "    est_weight = as.numeric(est_weight),\n",
    "    pct_chart = as.numeric(pct_chart),\n",
    "    country = as.factor(country),\n",
    "    year = str_sub(id, 1, 4)\n",
    "  )"
   ]
  },
  {
   "cell_type": "code",
   "execution_count": 5,
   "id": "281a0e14-c6c8-4b60-83e6-b206b3d5c3d5",
   "metadata": {},
   "outputs": [
    {
     "data": {
      "text/html": [
       "<table class=\"dataframe\">\n",
       "<caption>A spec_tbl_df: 28011 × 15</caption>\n",
       "<thead>\n",
       "\t<tr><th scope=col>id</th><th scope=col>place</th><th scope=col>weight_lbs</th><th scope=col>grower_name</th><th scope=col>city</th><th scope=col>state_prov</th><th scope=col>country</th><th scope=col>gpc_site</th><th scope=col>seed_mother</th><th scope=col>pollinator_father</th><th scope=col>ott</th><th scope=col>est_weight</th><th scope=col>pct_chart</th><th scope=col>variety</th><th scope=col>year</th></tr>\n",
       "\t<tr><th scope=col>&lt;chr&gt;</th><th scope=col>&lt;chr&gt;</th><th scope=col>&lt;dbl&gt;</th><th scope=col>&lt;chr&gt;</th><th scope=col>&lt;chr&gt;</th><th scope=col>&lt;chr&gt;</th><th scope=col>&lt;fct&gt;</th><th scope=col>&lt;chr&gt;</th><th scope=col>&lt;chr&gt;</th><th scope=col>&lt;chr&gt;</th><th scope=col>&lt;dbl&gt;</th><th scope=col>&lt;dbl&gt;</th><th scope=col>&lt;dbl&gt;</th><th scope=col>&lt;chr&gt;</th><th scope=col>&lt;chr&gt;</th></tr>\n",
       "</thead>\n",
       "<tbody>\n",
       "\t<tr><td>2013-F</td><td>1</td><td>154.5</td><td>Ellenbecker, Todd &amp; Sequoia</td><td><span style=white-space:pre-wrap>Gleason       </span></td><td>Wisconsin</td><td>United States</td><td><span style=white-space:pre-wrap>Nekoosa Giant Pumpkin Fest                 </span></td><td><span style=white-space:pre-wrap>209 Werner    </span></td><td><span style=white-space:pre-wrap>Self          </span></td><td>184</td><td>129</td><td>20</td><td>NA</td><td>2013</td></tr>\n",
       "\t<tr><td>2013-F</td><td>2</td><td>146.5</td><td>Razo, Steve                </td><td>New Middletown</td><td>Ohio     </td><td>United States</td><td>Ohio Valley Giant Pumpkin Growers Weigh-off</td><td>150.5 Snyder  </td><td>NA            </td><td>194</td><td>151</td><td>-3</td><td>NA</td><td>2013</td></tr>\n",
       "\t<tr><td>2013-F</td><td>3</td><td>145.0</td><td>Ellenbecker, Todd &amp; Sequoia</td><td><span style=white-space:pre-wrap>Glenson       </span></td><td>Wisconsin</td><td>United States</td><td><span style=white-space:pre-wrap>Mishicot Pumpkin Fest                      </span></td><td><span style=white-space:pre-wrap>209 Werner    </span></td><td>103 Mackinnon </td><td>177</td><td>115</td><td>26</td><td>NA</td><td>2013</td></tr>\n",
       "\t<tr><td>2013-F</td><td>4</td><td>140.8</td><td><span style=white-space:pre-wrap>Martin, Margaret &amp; Glen    </span></td><td>Combined Locks</td><td>Wisconsin</td><td>United States</td><td><span style=white-space:pre-wrap>Cedarburg Wine and Harvest Festival        </span></td><td>109 Martin '12</td><td>209 Werner '12</td><td>194</td><td>151</td><td>-7</td><td>NA</td><td>2013</td></tr>\n",
       "\t<tr><td>2013-F</td><td>5</td><td>139.0</td><td>Barlow, John               </td><td>NA            </td><td>Wisconsin</td><td>United States</td><td>Stillwater Harvestfest                     </td><td>130.5 McKinnon</td><td>open          </td><td>  0</td><td>  0</td><td> 0</td><td>NA</td><td>2013</td></tr>\n",
       "\t<tr><td>...</td><td>...</td><td>...</td><td>...</td><td>...</td><td>...</td><td>...</td><td>...</td><td>...</td><td>...</td><td>...</td><td>...</td><td>...</td><td>...</td><td>...</td></tr>\n",
       "\t<tr><td>2021-W</td><td>DMG</td><td>181.0</td><td>Williams, Hc    </td><td>Bailey     </td><td>North Carolina   </td><td>United States</td><td>Yadkin Valley Pumpkin Weigh-off      </td><td>255 Mitchell           </td><td>NA</td><td>185</td><td>180</td><td>1</td><td>NA</td><td>2021</td></tr>\n",
       "\t<tr><td>2021-W</td><td>DMG</td><td>159.5</td><td>Huber, Brandon  </td><td>Raleigh    </td><td>North Carolina   </td><td>United States</td><td>Yadkin Valley Pumpkin Weigh-off      </td><td>330 Vial               </td><td>NA</td><td>175</td><td>152</td><td>5</td><td>NA</td><td>2021</td></tr>\n",
       "\t<tr><td>2021-W</td><td>DMG</td><td>141.0</td><td>Vester, Danny   </td><td>Spring Hope</td><td>North Carolina   </td><td>United States</td><td>Tennessee Valley Fair                </td><td>305 Vial               </td><td>NA</td><td>169</td><td>139</td><td>1</td><td>NA</td><td>2021</td></tr>\n",
       "\t<tr><td>2021-W</td><td>DMG</td><td>116.5</td><td>bradley, jeffrey</td><td>rocky mount</td><td>North Carolina   </td><td>United States</td><td>Spring Hope National Pumpkin Festival</td><td>unknow                 </td><td>NA</td><td>159</td><td>116</td><td>0</td><td>NA</td><td>2021</td></tr>\n",
       "\t<tr><td>2021-W</td><td>DMG</td><td> 16.3</td><td>Kyro, Anni      </td><td>Orimattila </td><td>Paijanne Tavastia</td><td>Finland      </td><td>Finnish Weigh-off                    </td><td>var. Carolina Cross -20</td><td>NA</td><td>  0</td><td>  0</td><td>0</td><td>NA</td><td>2021</td></tr>\n",
       "</tbody>\n",
       "</table>\n"
      ],
      "text/latex": [
       "A spec\\_tbl\\_df: 28011 × 15\n",
       "\\begin{tabular}{lllllllllllllll}\n",
       " id & place & weight\\_lbs & grower\\_name & city & state\\_prov & country & gpc\\_site & seed\\_mother & pollinator\\_father & ott & est\\_weight & pct\\_chart & variety & year\\\\\n",
       " <chr> & <chr> & <dbl> & <chr> & <chr> & <chr> & <fct> & <chr> & <chr> & <chr> & <dbl> & <dbl> & <dbl> & <chr> & <chr>\\\\\n",
       "\\hline\n",
       "\t 2013-F & 1 & 154.5 & Ellenbecker, Todd \\& Sequoia & Gleason        & Wisconsin & United States & Nekoosa Giant Pumpkin Fest                  & 209 Werner     & Self           & 184 & 129 & 20 & NA & 2013\\\\\n",
       "\t 2013-F & 2 & 146.5 & Razo, Steve                 & New Middletown & Ohio      & United States & Ohio Valley Giant Pumpkin Growers Weigh-off & 150.5 Snyder   & NA             & 194 & 151 & -3 & NA & 2013\\\\\n",
       "\t 2013-F & 3 & 145.0 & Ellenbecker, Todd \\& Sequoia & Glenson        & Wisconsin & United States & Mishicot Pumpkin Fest                       & 209 Werner     & 103 Mackinnon  & 177 & 115 & 26 & NA & 2013\\\\\n",
       "\t 2013-F & 4 & 140.8 & Martin, Margaret \\& Glen     & Combined Locks & Wisconsin & United States & Cedarburg Wine and Harvest Festival         & 109 Martin '12 & 209 Werner '12 & 194 & 151 & -7 & NA & 2013\\\\\n",
       "\t 2013-F & 5 & 139.0 & Barlow, John                & NA             & Wisconsin & United States & Stillwater Harvestfest                      & 130.5 McKinnon & open           &   0 &   0 &  0 & NA & 2013\\\\\n",
       "\t ... & ... & ... & ... & ... & ... & ... & ... & ... & ... & ... & ... & ... & ... & ...\\\\\n",
       "\t 2021-W & DMG & 181.0 & Williams, Hc     & Bailey      & North Carolina    & United States & Yadkin Valley Pumpkin Weigh-off       & 255 Mitchell            & NA & 185 & 180 & 1 & NA & 2021\\\\\n",
       "\t 2021-W & DMG & 159.5 & Huber, Brandon   & Raleigh     & North Carolina    & United States & Yadkin Valley Pumpkin Weigh-off       & 330 Vial                & NA & 175 & 152 & 5 & NA & 2021\\\\\n",
       "\t 2021-W & DMG & 141.0 & Vester, Danny    & Spring Hope & North Carolina    & United States & Tennessee Valley Fair                 & 305 Vial                & NA & 169 & 139 & 1 & NA & 2021\\\\\n",
       "\t 2021-W & DMG & 116.5 & bradley, jeffrey & rocky mount & North Carolina    & United States & Spring Hope National Pumpkin Festival & unknow                  & NA & 159 & 116 & 0 & NA & 2021\\\\\n",
       "\t 2021-W & DMG &  16.3 & Kyro, Anni       & Orimattila  & Paijanne Tavastia & Finland       & Finnish Weigh-off                     & var. Carolina Cross -20 & NA &   0 &   0 & 0 & NA & 2021\\\\\n",
       "\\end{tabular}\n"
      ],
      "text/markdown": [
       "\n",
       "A spec_tbl_df: 28011 × 15\n",
       "\n",
       "| id &lt;chr&gt; | place &lt;chr&gt; | weight_lbs &lt;dbl&gt; | grower_name &lt;chr&gt; | city &lt;chr&gt; | state_prov &lt;chr&gt; | country &lt;fct&gt; | gpc_site &lt;chr&gt; | seed_mother &lt;chr&gt; | pollinator_father &lt;chr&gt; | ott &lt;dbl&gt; | est_weight &lt;dbl&gt; | pct_chart &lt;dbl&gt; | variety &lt;chr&gt; | year &lt;chr&gt; |\n",
       "|---|---|---|---|---|---|---|---|---|---|---|---|---|---|---|\n",
       "| 2013-F | 1 | 154.5 | Ellenbecker, Todd &amp; Sequoia | Gleason        | Wisconsin | United States | Nekoosa Giant Pumpkin Fest                  | 209 Werner     | Self           | 184 | 129 | 20 | NA | 2013 |\n",
       "| 2013-F | 2 | 146.5 | Razo, Steve                 | New Middletown | Ohio      | United States | Ohio Valley Giant Pumpkin Growers Weigh-off | 150.5 Snyder   | NA             | 194 | 151 | -3 | NA | 2013 |\n",
       "| 2013-F | 3 | 145.0 | Ellenbecker, Todd &amp; Sequoia | Glenson        | Wisconsin | United States | Mishicot Pumpkin Fest                       | 209 Werner     | 103 Mackinnon  | 177 | 115 | 26 | NA | 2013 |\n",
       "| 2013-F | 4 | 140.8 | Martin, Margaret &amp; Glen     | Combined Locks | Wisconsin | United States | Cedarburg Wine and Harvest Festival         | 109 Martin '12 | 209 Werner '12 | 194 | 151 | -7 | NA | 2013 |\n",
       "| 2013-F | 5 | 139.0 | Barlow, John                | NA             | Wisconsin | United States | Stillwater Harvestfest                      | 130.5 McKinnon | open           |   0 |   0 |  0 | NA | 2013 |\n",
       "| ... | ... | ... | ... | ... | ... | ... | ... | ... | ... | ... | ... | ... | ... | ... |\n",
       "| 2021-W | DMG | 181.0 | Williams, Hc     | Bailey      | North Carolina    | United States | Yadkin Valley Pumpkin Weigh-off       | 255 Mitchell            | NA | 185 | 180 | 1 | NA | 2021 |\n",
       "| 2021-W | DMG | 159.5 | Huber, Brandon   | Raleigh     | North Carolina    | United States | Yadkin Valley Pumpkin Weigh-off       | 330 Vial                | NA | 175 | 152 | 5 | NA | 2021 |\n",
       "| 2021-W | DMG | 141.0 | Vester, Danny    | Spring Hope | North Carolina    | United States | Tennessee Valley Fair                 | 305 Vial                | NA | 169 | 139 | 1 | NA | 2021 |\n",
       "| 2021-W | DMG | 116.5 | bradley, jeffrey | rocky mount | North Carolina    | United States | Spring Hope National Pumpkin Festival | unknow                  | NA | 159 | 116 | 0 | NA | 2021 |\n",
       "| 2021-W | DMG |  16.3 | Kyro, Anni       | Orimattila  | Paijanne Tavastia | Finland       | Finnish Weigh-off                     | var. Carolina Cross -20 | NA |   0 |   0 | 0 | NA | 2021 |\n",
       "\n"
      ],
      "text/plain": [
       "      id     place weight_lbs grower_name                 city          \n",
       "1     2013-F 1     154.5      Ellenbecker, Todd & Sequoia Gleason       \n",
       "2     2013-F 2     146.5      Razo, Steve                 New Middletown\n",
       "3     2013-F 3     145.0      Ellenbecker, Todd & Sequoia Glenson       \n",
       "4     2013-F 4     140.8      Martin, Margaret & Glen     Combined Locks\n",
       "5     2013-F 5     139.0      Barlow, John                NA            \n",
       "...   ...    ...   ...        ...                         ...           \n",
       "28007 2021-W DMG   181.0      Williams, Hc                Bailey        \n",
       "28008 2021-W DMG   159.5      Huber, Brandon              Raleigh       \n",
       "28009 2021-W DMG   141.0      Vester, Danny               Spring Hope   \n",
       "28010 2021-W DMG   116.5      bradley, jeffrey            rocky mount   \n",
       "28011 2021-W DMG    16.3      Kyro, Anni                  Orimattila    \n",
       "      state_prov        country      \n",
       "1     Wisconsin         United States\n",
       "2     Ohio              United States\n",
       "3     Wisconsin         United States\n",
       "4     Wisconsin         United States\n",
       "5     Wisconsin         United States\n",
       "...   ...               ...          \n",
       "28007 North Carolina    United States\n",
       "28008 North Carolina    United States\n",
       "28009 North Carolina    United States\n",
       "28010 North Carolina    United States\n",
       "28011 Paijanne Tavastia Finland      \n",
       "      gpc_site                                    seed_mother            \n",
       "1     Nekoosa Giant Pumpkin Fest                  209 Werner             \n",
       "2     Ohio Valley Giant Pumpkin Growers Weigh-off 150.5 Snyder           \n",
       "3     Mishicot Pumpkin Fest                       209 Werner             \n",
       "4     Cedarburg Wine and Harvest Festival         109 Martin '12         \n",
       "5     Stillwater Harvestfest                      130.5 McKinnon         \n",
       "...   ...                                         ...                    \n",
       "28007 Yadkin Valley Pumpkin Weigh-off             255 Mitchell           \n",
       "28008 Yadkin Valley Pumpkin Weigh-off             330 Vial               \n",
       "28009 Tennessee Valley Fair                       305 Vial               \n",
       "28010 Spring Hope National Pumpkin Festival       unknow                 \n",
       "28011 Finnish Weigh-off                           var. Carolina Cross -20\n",
       "      pollinator_father ott est_weight pct_chart variety year\n",
       "1     Self              184 129        20        NA      2013\n",
       "2     NA                194 151        -3        NA      2013\n",
       "3     103 Mackinnon     177 115        26        NA      2013\n",
       "4     209 Werner '12    194 151        -7        NA      2013\n",
       "5     open                0   0         0        NA      2013\n",
       "...   ...               ... ...        ...       ...     ... \n",
       "28007 NA                185 180        1         NA      2021\n",
       "28008 NA                175 152        5         NA      2021\n",
       "28009 NA                169 139        1         NA      2021\n",
       "28010 NA                159 116        0         NA      2021\n",
       "28011 NA                  0   0        0         NA      2021"
      ]
     },
     "metadata": {},
     "output_type": "display_data"
    }
   ],
   "source": [
    "pumpkins_tidy"
   ]
  },
  {
   "cell_type": "code",
   "execution_count": 6,
   "id": "3c935c40-4256-4bb0-a4ec-22b0a9e6a7d8",
   "metadata": {},
   "outputs": [
    {
     "data": {
      "text/html": [
       "<style>\n",
       ".list-inline {list-style: none; margin:0; padding: 0}\n",
       ".list-inline>li {display: inline-block}\n",
       ".list-inline>li:not(:last-child)::after {content: \"\\00b7\"; padding: 0 .5ex}\n",
       "</style>\n",
       "<ol class=list-inline><li>'Australia'</li><li>'Austria'</li><li>'Belgium'</li><li>'Canada'</li><li>'Finland'</li><li>'France'</li><li>'Germany'</li><li>'Ireland'</li><li>'Italy'</li><li>'Japan'</li><li>'Luxembourg'</li><li>'New Zealand'</li><li>'Poland'</li><li>'Portugal'</li><li>'Slovenia'</li><li>'Spain'</li><li>'Switzerland'</li><li>'The Netherlands'</li><li>'United Kingdom'</li><li>'United States'</li><li>'Unknown country'</li></ol>\n"
      ],
      "text/latex": [
       "\\begin{enumerate*}\n",
       "\\item 'Australia'\n",
       "\\item 'Austria'\n",
       "\\item 'Belgium'\n",
       "\\item 'Canada'\n",
       "\\item 'Finland'\n",
       "\\item 'France'\n",
       "\\item 'Germany'\n",
       "\\item 'Ireland'\n",
       "\\item 'Italy'\n",
       "\\item 'Japan'\n",
       "\\item 'Luxembourg'\n",
       "\\item 'New Zealand'\n",
       "\\item 'Poland'\n",
       "\\item 'Portugal'\n",
       "\\item 'Slovenia'\n",
       "\\item 'Spain'\n",
       "\\item 'Switzerland'\n",
       "\\item 'The Netherlands'\n",
       "\\item 'United Kingdom'\n",
       "\\item 'United States'\n",
       "\\item 'Unknown country'\n",
       "\\end{enumerate*}\n"
      ],
      "text/markdown": [
       "1. 'Australia'\n",
       "2. 'Austria'\n",
       "3. 'Belgium'\n",
       "4. 'Canada'\n",
       "5. 'Finland'\n",
       "6. 'France'\n",
       "7. 'Germany'\n",
       "8. 'Ireland'\n",
       "9. 'Italy'\n",
       "10. 'Japan'\n",
       "11. 'Luxembourg'\n",
       "12. 'New Zealand'\n",
       "13. 'Poland'\n",
       "14. 'Portugal'\n",
       "15. 'Slovenia'\n",
       "16. 'Spain'\n",
       "17. 'Switzerland'\n",
       "18. 'The Netherlands'\n",
       "19. 'United Kingdom'\n",
       "20. 'United States'\n",
       "21. 'Unknown country'\n",
       "\n",
       "\n"
      ],
      "text/plain": [
       " [1] \"Australia\"       \"Austria\"         \"Belgium\"         \"Canada\"         \n",
       " [5] \"Finland\"         \"France\"          \"Germany\"         \"Ireland\"        \n",
       " [9] \"Italy\"           \"Japan\"           \"Luxembourg\"      \"New Zealand\"    \n",
       "[13] \"Poland\"          \"Portugal\"        \"Slovenia\"        \"Spain\"          \n",
       "[17] \"Switzerland\"     \"The Netherlands\" \"United Kingdom\"  \"United States\"  \n",
       "[21] \"Unknown country\""
      ]
     },
     "metadata": {},
     "output_type": "display_data"
    }
   ],
   "source": [
    "levels(pumpkins_tidy$country)"
   ]
  },
  {
   "cell_type": "code",
   "execution_count": 7,
   "id": "6cbb4dae-5a09-4ff0-92b7-a329710bc143",
   "metadata": {},
   "outputs": [
    {
     "name": "stdout",
     "output_type": "stream",
     "text": [
      "      id               place             weight_lbs    grower_name       \n",
      " Length:28011       Length:28011       Min.   :  0.1   Length:28011      \n",
      " Class :character   Class :character   1st Qu.: 70.0   Class :character  \n",
      " Mode  :character   Mode  :character   Median :169.5   Mode  :character  \n",
      "                                       Mean   :303.5                     \n",
      "                                       3rd Qu.:526.4                     \n",
      "                                       Max.   :999.8                     \n",
      "                                       NA's   :5213                      \n",
      "     city            state_prov                 country        gpc_site        \n",
      " Length:28011       Length:28011       United States:17070   Length:28011      \n",
      " Class :character   Class :character   Canada       : 4522   Class :character  \n",
      " Mode  :character   Mode  :character   Germany      : 2175   Mode  :character  \n",
      "                                       Italy        :  846                     \n",
      "                                       Austria      :  602                     \n",
      "                                       France       :  405                     \n",
      "                                       (Other)      : 2391                     \n",
      " seed_mother        pollinator_father       ott           est_weight   \n",
      " Length:28011       Length:28011       Min.   :   0.0   Min.   :  0.0  \n",
      " Class :character   Class :character   1st Qu.:   0.0   1st Qu.:  0.0  \n",
      " Mode  :character   Mode  :character   Median : 233.0   Median :135.0  \n",
      "                                       Mean   : 202.5   Mean   :273.5  \n",
      "                                       3rd Qu.: 338.0   3rd Qu.:518.0  \n",
      "                                       Max.   :1132.0   Max.   :998.0  \n",
      "                                       NA's   :3157     NA's   :8179   \n",
      "   pct_chart           variety              year          \n",
      " Min.   :-100.0000   Length:28011       Length:28011      \n",
      " 1st Qu.:  -3.0000   Class :character   Class :character  \n",
      " Median :   0.0000   Mode  :character   Mode  :character  \n",
      " Mean   :   0.4468                                        \n",
      " 3rd Qu.:   3.0000                                        \n",
      " Max.   : 830.0000                                        \n",
      " NA's   :3157                                             \n"
     ]
    }
   ],
   "source": [
    "print(summary(pumpkins_tidy))"
   ]
  },
  {
   "cell_type": "code",
   "execution_count": 8,
   "id": "54daa746-82aa-4d26-bce5-e10dca162bc0",
   "metadata": {},
   "outputs": [
    {
     "name": "stderr",
     "output_type": "stream",
     "text": [
      "Warning message:\n",
      "\"Removed 5213 rows containing non-finite values (stat_bin).\"\n"
     ]
    },
    {
     "data": {
      "image/png": "[encoded data removed]",
      "text/plain": [
       "plot without title"
      ]
     },
     "metadata": {
      "image/png": {
       "height": 420,
       "width": 420
      }
     },
     "output_type": "display_data"
    }
   ],
   "source": [
    "# explore the distribution of selected columns (weight_lbs, country, ott, year)\n",
    "options(repr.plot.width = 7, repr.plot.height = 7)\n",
    "\n",
    "weight_plot <- pumpkins_tidy |>\n",
    "  ggplot(aes(x = weight_lbs, fill = country)) +\n",
    "  geom_histogram(bins = 20, color = \"white\")\n",
    "\n",
    "weight_plot"
   ]
  },
  {
   "cell_type": "code",
   "execution_count": 9,
   "id": "a5967a63-7a83-44d5-8a16-3da1994d9c9c",
   "metadata": {},
   "outputs": [
    {
     "name": "stderr",
     "output_type": "stream",
     "text": [
      "Warning message:\n",
      "\"Removed 3157 rows containing non-finite values (stat_bin).\"\n"
     ]
    },
    {
     "data": {
      "image/png": "[encoded data removed]",
      "text/plain": [
       "plot without title"
      ]
     },
     "metadata": {
      "image/png": {
       "height": 420,
       "width": 420
      }
     },
     "output_type": "display_data"
    }
   ],
   "source": [
    "ott_plot <- pumpkins_tidy |>\n",
    "  ggplot(aes(x = ott, fill = country)) +\n",
    "  geom_histogram(bins = 20, color = \"white\")\n",
    "ott_plot"
   ]
  },
  {
   "cell_type": "code",
   "execution_count": 10,
   "id": "9b4fad85-9e62-43ed-9912-6ac5e0264e98",
   "metadata": {},
   "outputs": [
    {
     "name": "stderr",
     "output_type": "stream",
     "text": [
      "Warning message:\n",
      "\"Ignoring unknown parameters: binwidth, bins, pad\"\n"
     ]
    },
    {
     "data": {
      "image/png": "[encoded data removed]",
      "text/plain": [
       "plot without title"
      ]
     },
     "metadata": {
      "image/png": {
       "height": 420,
       "width": 420
      }
     },
     "output_type": "display_data"
    }
   ],
   "source": [
    "country_plot <- pumpkins_tidy |>\n",
    "  ggplot(aes(x = country, fill = country)) +\n",
    "  geom_histogram(stat = \"count\", color = \"white\")\n",
    "country_plot"
   ]
  },
  {
   "cell_type": "code",
   "execution_count": 13,
   "id": "6be19bac-1324-4987-88e5-e2c86f188dd7",
   "metadata": {},
   "outputs": [
    {
     "ename": "ERROR",
     "evalue": "Error in layer(data = data, mapping = mapping, stat = stat, geom = GeomPoint, : object 'size' not found\n",
     "output_type": "error",
     "traceback": [
      "Error in layer(data = data, mapping = mapping, stat = stat, geom = GeomPoint, : object 'size' not found\nTraceback:\n",
      "1. geom_point(size)",
      "2. layer(data = data, mapping = mapping, stat = stat, geom = GeomPoint, \n .     position = position, show.legend = show.legend, inherit.aes = inherit.aes, \n .     params = list(na.rm = na.rm, ...))"
     ]
    }
   ],
   "source": [
    "weight_ott_plot <- pumpkins_tidy |>\n",
    "  ggplot(aes(x = ott, y = weight_lbs)) +\n",
    "  geom_point(size)\n",
    "weight_ott_plot"
   ]
  },
  {
   "cell_type": "code",
   "execution_count": 14,
   "id": "1fb26bc9-bd21-4042-a1d0-7b35e3337156",
   "metadata": {},
   "outputs": [
    {
     "data": {
      "text/html": [
       "<table class=\"dataframe\">\n",
       "<caption>A spec_tbl_df: 4522 × 15</caption>\n",
       "<thead>\n",
       "\t<tr><th scope=col>id</th><th scope=col>place</th><th scope=col>weight_lbs</th><th scope=col>grower_name</th><th scope=col>city</th><th scope=col>state_prov</th><th scope=col>country</th><th scope=col>gpc_site</th><th scope=col>seed_mother</th><th scope=col>pollinator_father</th><th scope=col>ott</th><th scope=col>est_weight</th><th scope=col>pct_chart</th><th scope=col>variety</th><th scope=col>year</th></tr>\n",
       "\t<tr><th scope=col>&lt;chr&gt;</th><th scope=col>&lt;chr&gt;</th><th scope=col>&lt;dbl&gt;</th><th scope=col>&lt;chr&gt;</th><th scope=col>&lt;chr&gt;</th><th scope=col>&lt;chr&gt;</th><th scope=col>&lt;fct&gt;</th><th scope=col>&lt;chr&gt;</th><th scope=col>&lt;chr&gt;</th><th scope=col>&lt;chr&gt;</th><th scope=col>&lt;dbl&gt;</th><th scope=col>&lt;dbl&gt;</th><th scope=col>&lt;dbl&gt;</th><th scope=col>&lt;chr&gt;</th><th scope=col>&lt;chr&gt;</th></tr>\n",
       "</thead>\n",
       "<tbody>\n",
       "\t<tr><td>2013-F</td><td>10</td><td>134</td><td>Coolen, Russell </td><td>Boutiliers Point</td><td>Nova Scotia         </td><td>Canada</td><td>The Great Howard Dill Giant Pumpkin Classic</td><td>97 Dill      </td><td>Self         </td><td>  0</td><td>  0</td><td> 0</td><td>NA</td><td>2013</td></tr>\n",
       "\t<tr><td>2013-F</td><td>11</td><td>132</td><td>Aten, Al        </td><td>Springvale      </td><td>Prince Edward Island</td><td>Canada</td><td>The Great Howard Dill Giant Pumpkin Classic</td><td>142 Aten     </td><td>103 MacKinnon</td><td>  0</td><td>  0</td><td> 0</td><td>NA</td><td>2013</td></tr>\n",
       "\t<tr><td>2013-F</td><td>12</td><td>131</td><td>MacKinnon, John </td><td>Strathlorne     </td><td>Nova Scotia         </td><td>Canada</td><td>Joe King Memorial Giant Pumpkin Weigh-off  </td><td>110 MacKinnon</td><td>103 MacKinnon</td><td>177</td><td>115</td><td>14</td><td>NA</td><td>2013</td></tr>\n",
       "\t<tr><td>2013-F</td><td>16</td><td>128</td><td>Lyons, Chris    </td><td>Scarborough     </td><td>Ontario             </td><td>Canada</td><td>Port Elgin Pumpkinfest                     </td><td>81 Wolf      </td><td>85 Eaton     </td><td>  0</td><td>  0</td><td> 0</td><td>NA</td><td>2013</td></tr>\n",
       "\t<tr><td>2013-F</td><td>21</td><td>124</td><td>MacKinnon, Betty</td><td>Strathlorne     </td><td>Nova Scotia         </td><td>Canada</td><td>Joe King Memorial Giant Pumpkin Weigh-off  </td><td>103 Mackinnon</td><td>110 MacKinnon</td><td>172</td><td>104</td><td>19</td><td>NA</td><td>2013</td></tr>\n",
       "\t<tr><td>...</td><td>...</td><td>...</td><td>...</td><td>...</td><td>...</td><td>...</td><td>...</td><td>...</td><td>...</td><td>...</td><td>...</td><td>...</td><td>...</td><td>...</td></tr>\n",
       "\t<tr><td>2021-W</td><td>160</td><td>81</td><td>Ansems, Catharina</td><td>Steam Mill</td><td>Nova Scotia</td><td>Canada</td><td>Annapolis Valley Giant Vegetable Growers   </td><td>80 Cameron'20</td><td>self</td><td>143</td><td>87</td><td>-7</td><td>NA</td><td>2021</td></tr>\n",
       "\t<tr><td>2021-W</td><td>178</td><td>60</td><td>Ansems, Fred     </td><td>Steam Mill</td><td>Nova Scotia</td><td>Canada</td><td>The Great Howard Dill Giant Pumpkin Classic</td><td>66 Ansems    </td><td>sib </td><td>  0</td><td> 0</td><td> 0</td><td>NA</td><td>2021</td></tr>\n",
       "\t<tr><td>2021-W</td><td>183</td><td>59</td><td>Ansems, Shirley  </td><td>Steam Mill</td><td>Nova Scotia</td><td>Canada</td><td>Annapolis Valley Giant Vegetable Growers   </td><td>66Ansems     </td><td>NA  </td><td>  0</td><td> 0</td><td> 0</td><td>NA</td><td>2021</td></tr>\n",
       "\t<tr><td>2021-W</td><td>191</td><td>48</td><td>Ansems, Shirley  </td><td>Steam Mill</td><td>Nova Scotia</td><td>Canada</td><td>The Great Howard Dill Giant Pumpkin Classic</td><td>66 Ansems    </td><td>sib </td><td>  0</td><td> 0</td><td> 0</td><td>NA</td><td>2021</td></tr>\n",
       "\t<tr><td>2021-W</td><td>217</td><td>18</td><td>Ansems, Catharina</td><td>Steam Mill</td><td>Nova Scotia</td><td>Canada</td><td>The Great Howard Dill Giant Pumpkin Classic</td><td>80 Cameron   </td><td>Sib </td><td>  0</td><td> 0</td><td> 0</td><td>NA</td><td>2021</td></tr>\n",
       "</tbody>\n",
       "</table>\n"
      ],
      "text/latex": [
       "A spec\\_tbl\\_df: 4522 × 15\n",
       "\\begin{tabular}{lllllllllllllll}\n",
       " id & place & weight\\_lbs & grower\\_name & city & state\\_prov & country & gpc\\_site & seed\\_mother & pollinator\\_father & ott & est\\_weight & pct\\_chart & variety & year\\\\\n",
       " <chr> & <chr> & <dbl> & <chr> & <chr> & <chr> & <fct> & <chr> & <chr> & <chr> & <dbl> & <dbl> & <dbl> & <chr> & <chr>\\\\\n",
       "\\hline\n",
       "\t 2013-F & 10 & 134 & Coolen, Russell  & Boutiliers Point & Nova Scotia          & Canada & The Great Howard Dill Giant Pumpkin Classic & 97 Dill       & Self          &   0 &   0 &  0 & NA & 2013\\\\\n",
       "\t 2013-F & 11 & 132 & Aten, Al         & Springvale       & Prince Edward Island & Canada & The Great Howard Dill Giant Pumpkin Classic & 142 Aten      & 103 MacKinnon &   0 &   0 &  0 & NA & 2013\\\\\n",
       "\t 2013-F & 12 & 131 & MacKinnon, John  & Strathlorne      & Nova Scotia          & Canada & Joe King Memorial Giant Pumpkin Weigh-off   & 110 MacKinnon & 103 MacKinnon & 177 & 115 & 14 & NA & 2013\\\\\n",
       "\t 2013-F & 16 & 128 & Lyons, Chris     & Scarborough      & Ontario              & Canada & Port Elgin Pumpkinfest                      & 81 Wolf       & 85 Eaton      &   0 &   0 &  0 & NA & 2013\\\\\n",
       "\t 2013-F & 21 & 124 & MacKinnon, Betty & Strathlorne      & Nova Scotia          & Canada & Joe King Memorial Giant Pumpkin Weigh-off   & 103 Mackinnon & 110 MacKinnon & 172 & 104 & 19 & NA & 2013\\\\\n",
       "\t ... & ... & ... & ... & ... & ... & ... & ... & ... & ... & ... & ... & ... & ... & ...\\\\\n",
       "\t 2021-W & 160 & 81 & Ansems, Catharina & Steam Mill & Nova Scotia & Canada & Annapolis Valley Giant Vegetable Growers    & 80 Cameron'20 & self & 143 & 87 & -7 & NA & 2021\\\\\n",
       "\t 2021-W & 178 & 60 & Ansems, Fred      & Steam Mill & Nova Scotia & Canada & The Great Howard Dill Giant Pumpkin Classic & 66 Ansems     & sib  &   0 &  0 &  0 & NA & 2021\\\\\n",
       "\t 2021-W & 183 & 59 & Ansems, Shirley   & Steam Mill & Nova Scotia & Canada & Annapolis Valley Giant Vegetable Growers    & 66Ansems      & NA   &   0 &  0 &  0 & NA & 2021\\\\\n",
       "\t 2021-W & 191 & 48 & Ansems, Shirley   & Steam Mill & Nova Scotia & Canada & The Great Howard Dill Giant Pumpkin Classic & 66 Ansems     & sib  &   0 &  0 &  0 & NA & 2021\\\\\n",
       "\t 2021-W & 217 & 18 & Ansems, Catharina & Steam Mill & Nova Scotia & Canada & The Great Howard Dill Giant Pumpkin Classic & 80 Cameron    & Sib  &   0 &  0 &  0 & NA & 2021\\\\\n",
       "\\end{tabular}\n"
      ],
      "text/markdown": [
       "\n",
       "A spec_tbl_df: 4522 × 15\n",
       "\n",
       "| id &lt;chr&gt; | place &lt;chr&gt; | weight_lbs &lt;dbl&gt; | grower_name &lt;chr&gt; | city &lt;chr&gt; | state_prov &lt;chr&gt; | country &lt;fct&gt; | gpc_site &lt;chr&gt; | seed_mother &lt;chr&gt; | pollinator_father &lt;chr&gt; | ott &lt;dbl&gt; | est_weight &lt;dbl&gt; | pct_chart &lt;dbl&gt; | variety &lt;chr&gt; | year &lt;chr&gt; |\n",
       "|---|---|---|---|---|---|---|---|---|---|---|---|---|---|---|\n",
       "| 2013-F | 10 | 134 | Coolen, Russell  | Boutiliers Point | Nova Scotia          | Canada | The Great Howard Dill Giant Pumpkin Classic | 97 Dill       | Self          |   0 |   0 |  0 | NA | 2013 |\n",
       "| 2013-F | 11 | 132 | Aten, Al         | Springvale       | Prince Edward Island | Canada | The Great Howard Dill Giant Pumpkin Classic | 142 Aten      | 103 MacKinnon |   0 |   0 |  0 | NA | 2013 |\n",
       "| 2013-F | 12 | 131 | MacKinnon, John  | Strathlorne      | Nova Scotia          | Canada | Joe King Memorial Giant Pumpkin Weigh-off   | 110 MacKinnon | 103 MacKinnon | 177 | 115 | 14 | NA | 2013 |\n",
       "| 2013-F | 16 | 128 | Lyons, Chris     | Scarborough      | Ontario              | Canada | Port Elgin Pumpkinfest                      | 81 Wolf       | 85 Eaton      |   0 |   0 |  0 | NA | 2013 |\n",
       "| 2013-F | 21 | 124 | MacKinnon, Betty | Strathlorne      | Nova Scotia          | Canada | Joe King Memorial Giant Pumpkin Weigh-off   | 103 Mackinnon | 110 MacKinnon | 172 | 104 | 19 | NA | 2013 |\n",
       "| ... | ... | ... | ... | ... | ... | ... | ... | ... | ... | ... | ... | ... | ... | ... |\n",
       "| 2021-W | 160 | 81 | Ansems, Catharina | Steam Mill | Nova Scotia | Canada | Annapolis Valley Giant Vegetable Growers    | 80 Cameron'20 | self | 143 | 87 | -7 | NA | 2021 |\n",
       "| 2021-W | 178 | 60 | Ansems, Fred      | Steam Mill | Nova Scotia | Canada | The Great Howard Dill Giant Pumpkin Classic | 66 Ansems     | sib  |   0 |  0 |  0 | NA | 2021 |\n",
       "| 2021-W | 183 | 59 | Ansems, Shirley   | Steam Mill | Nova Scotia | Canada | Annapolis Valley Giant Vegetable Growers    | 66Ansems      | NA   |   0 |  0 |  0 | NA | 2021 |\n",
       "| 2021-W | 191 | 48 | Ansems, Shirley   | Steam Mill | Nova Scotia | Canada | The Great Howard Dill Giant Pumpkin Classic | 66 Ansems     | sib  |   0 |  0 |  0 | NA | 2021 |\n",
       "| 2021-W | 217 | 18 | Ansems, Catharina | Steam Mill | Nova Scotia | Canada | The Great Howard Dill Giant Pumpkin Classic | 80 Cameron    | Sib  |   0 |  0 |  0 | NA | 2021 |\n",
       "\n"
      ],
      "text/plain": [
       "     id     place weight_lbs grower_name       city            \n",
       "1    2013-F 10    134        Coolen, Russell   Boutiliers Point\n",
       "2    2013-F 11    132        Aten, Al          Springvale      \n",
       "3    2013-F 12    131        MacKinnon, John   Strathlorne     \n",
       "4    2013-F 16    128        Lyons, Chris      Scarborough     \n",
       "5    2013-F 21    124        MacKinnon, Betty  Strathlorne     \n",
       "...  ...    ...   ...        ...               ...             \n",
       "4518 2021-W 160   81         Ansems, Catharina Steam Mill      \n",
       "4519 2021-W 178   60         Ansems, Fred      Steam Mill      \n",
       "4520 2021-W 183   59         Ansems, Shirley   Steam Mill      \n",
       "4521 2021-W 191   48         Ansems, Shirley   Steam Mill      \n",
       "4522 2021-W 217   18         Ansems, Catharina Steam Mill      \n",
       "     state_prov           country gpc_site                                   \n",
       "1    Nova Scotia          Canada  The Great Howard Dill Giant Pumpkin Classic\n",
       "2    Prince Edward Island Canada  The Great Howard Dill Giant Pumpkin Classic\n",
       "3    Nova Scotia          Canada  Joe King Memorial Giant Pumpkin Weigh-off  \n",
       "4    Ontario              Canada  Port Elgin Pumpkinfest                     \n",
       "5    Nova Scotia          Canada  Joe King Memorial Giant Pumpkin Weigh-off  \n",
       "...  ...                  ...     ...                                        \n",
       "4518 Nova Scotia          Canada  Annapolis Valley Giant Vegetable Growers   \n",
       "4519 Nova Scotia          Canada  The Great Howard Dill Giant Pumpkin Classic\n",
       "4520 Nova Scotia          Canada  Annapolis Valley Giant Vegetable Growers   \n",
       "4521 Nova Scotia          Canada  The Great Howard Dill Giant Pumpkin Classic\n",
       "4522 Nova Scotia          Canada  The Great Howard Dill Giant Pumpkin Classic\n",
       "     seed_mother   pollinator_father ott est_weight pct_chart variety year\n",
       "1    97 Dill       Self                0   0         0        NA      2013\n",
       "2    142 Aten      103 MacKinnon       0   0         0        NA      2013\n",
       "3    110 MacKinnon 103 MacKinnon     177 115        14        NA      2013\n",
       "4    81 Wolf       85 Eaton            0   0         0        NA      2013\n",
       "5    103 Mackinnon 110 MacKinnon     172 104        19        NA      2013\n",
       "...  ...           ...               ... ...        ...       ...     ... \n",
       "4518 80 Cameron'20 self              143 87         -7        NA      2021\n",
       "4519 66 Ansems     sib                 0  0          0        NA      2021\n",
       "4520 66Ansems      NA                  0  0          0        NA      2021\n",
       "4521 66 Ansems     sib                 0  0          0        NA      2021\n",
       "4522 80 Cameron    Sib                 0  0          0        NA      2021"
      ]
     },
     "metadata": {},
     "output_type": "display_data"
    }
   ],
   "source": [
    "pumpkins_canada <- pumpkins_tidy |>\n",
    "  filter(country == \"Canada\")\n",
    "pumpkins_canada"
   ]
  },
  {
   "cell_type": "code",
   "execution_count": 15,
   "id": "22bb9d37-98c0-4124-b581-5f3ac7868b3b",
   "metadata": {},
   "outputs": [
    {
     "data": {
      "text/html": [
       "<table class=\"dataframe\">\n",
       "<caption>A tibble: 10 × 4</caption>\n",
       "<thead>\n",
       "\t<tr><th scope=col>country</th><th scope=col>count</th><th scope=col>mean_weight</th><th scope=col>mean_ott</th></tr>\n",
       "\t<tr><th scope=col>&lt;fct&gt;</th><th scope=col>&lt;int&gt;</th><th scope=col>&lt;dbl&gt;</th><th scope=col>&lt;dbl&gt;</th></tr>\n",
       "</thead>\n",
       "<tbody>\n",
       "\t<tr><td>Belgium        </td><td>  360</td><td>558.0198</td><td>332.83714</td></tr>\n",
       "\t<tr><td>Unknown country</td><td>    1</td><td>526.0000</td><td>287.00000</td></tr>\n",
       "\t<tr><td>Luxembourg     </td><td>    1</td><td>521.2000</td><td>315.00000</td></tr>\n",
       "\t<tr><td>Slovenia       </td><td>  167</td><td>454.2000</td><td>187.34731</td></tr>\n",
       "\t<tr><td>Austria        </td><td>  602</td><td>349.3097</td><td>168.92477</td></tr>\n",
       "\t<tr><td>Switzerland    </td><td>  166</td><td>336.3300</td><td> 56.96667</td></tr>\n",
       "\t<tr><td>Portugal       </td><td>  149</td><td>323.5062</td><td>248.42857</td></tr>\n",
       "\t<tr><td>Spain          </td><td>  229</td><td>313.6908</td><td>204.79646</td></tr>\n",
       "\t<tr><td>United States  </td><td>17070</td><td>307.8908</td><td>226.32592</td></tr>\n",
       "\t<tr><td>Poland         </td><td>   73</td><td>307.0068</td><td>151.15000</td></tr>\n",
       "</tbody>\n",
       "</table>\n"
      ],
      "text/latex": [
       "A tibble: 10 × 4\n",
       "\\begin{tabular}{llll}\n",
       " country & count & mean\\_weight & mean\\_ott\\\\\n",
       " <fct> & <int> & <dbl> & <dbl>\\\\\n",
       "\\hline\n",
       "\t Belgium         &   360 & 558.0198 & 332.83714\\\\\n",
       "\t Unknown country &     1 & 526.0000 & 287.00000\\\\\n",
       "\t Luxembourg      &     1 & 521.2000 & 315.00000\\\\\n",
       "\t Slovenia        &   167 & 454.2000 & 187.34731\\\\\n",
       "\t Austria         &   602 & 349.3097 & 168.92477\\\\\n",
       "\t Switzerland     &   166 & 336.3300 &  56.96667\\\\\n",
       "\t Portugal        &   149 & 323.5062 & 248.42857\\\\\n",
       "\t Spain           &   229 & 313.6908 & 204.79646\\\\\n",
       "\t United States   & 17070 & 307.8908 & 226.32592\\\\\n",
       "\t Poland          &    73 & 307.0068 & 151.15000\\\\\n",
       "\\end{tabular}\n"
      ],
      "text/markdown": [
       "\n",
       "A tibble: 10 × 4\n",
       "\n",
       "| country &lt;fct&gt; | count &lt;int&gt; | mean_weight &lt;dbl&gt; | mean_ott &lt;dbl&gt; |\n",
       "|---|---|---|---|\n",
       "| Belgium         |   360 | 558.0198 | 332.83714 |\n",
       "| Unknown country |     1 | 526.0000 | 287.00000 |\n",
       "| Luxembourg      |     1 | 521.2000 | 315.00000 |\n",
       "| Slovenia        |   167 | 454.2000 | 187.34731 |\n",
       "| Austria         |   602 | 349.3097 | 168.92477 |\n",
       "| Switzerland     |   166 | 336.3300 |  56.96667 |\n",
       "| Portugal        |   149 | 323.5062 | 248.42857 |\n",
       "| Spain           |   229 | 313.6908 | 204.79646 |\n",
       "| United States   | 17070 | 307.8908 | 226.32592 |\n",
       "| Poland          |    73 | 307.0068 | 151.15000 |\n",
       "\n"
      ],
      "text/plain": [
       "   country         count mean_weight mean_ott \n",
       "1  Belgium           360 558.0198    332.83714\n",
       "2  Unknown country     1 526.0000    287.00000\n",
       "3  Luxembourg          1 521.2000    315.00000\n",
       "4  Slovenia          167 454.2000    187.34731\n",
       "5  Austria           602 349.3097    168.92477\n",
       "6  Switzerland       166 336.3300     56.96667\n",
       "7  Portugal          149 323.5062    248.42857\n",
       "8  Spain             229 313.6908    204.79646\n",
       "9  United States   17070 307.8908    226.32592\n",
       "10 Poland             73 307.0068    151.15000"
      ]
     },
     "metadata": {},
     "output_type": "display_data"
    }
   ],
   "source": [
    "# avg weight by country\n",
    "pumpkins_tidy_country <- pumpkins_tidy |>\n",
    "  group_by(country) |>\n",
    "  summarize(count = n(), mean_weight = mean(weight_lbs, na.rm = TRUE), mean_ott = mean(ott, na.rm = TRUE)) |>\n",
    "  arrange(desc(mean_weight))\n",
    "pumpkins_tidy_country |> slice(1:10)"
   ]
  },
  {
   "cell_type": "code",
   "execution_count": 16,
   "id": "5a1182c8-89c3-479d-bf30-416b1177e96d",
   "metadata": {},
   "outputs": [
    {
     "data": {
      "image/png": "[encoded data removed]",
      "text/plain": [
       "plot without title"
      ]
     },
     "metadata": {
      "image/png": {
       "height": 600,
       "width": 600
      }
     },
     "output_type": "display_data"
    }
   ],
   "source": [
    "# avg weight / avg ott by country\n",
    "options(repr.plot.width = 10, repr.plot.height = 10)\n",
    "weight_ott_plot <- pumpkins_tidy_country |>\n",
    "  ggplot(aes(x = mean_ott, y = mean_weight, color = country)) +\n",
    "  geom_point(size = 6) +\n",
    "  theme(legend.text = element_text(size = 14))\n",
    "\n",
    "weight_ott_plot"
   ]
  },
  {
   "cell_type": "code",
   "execution_count": 17,
   "id": "c7e7de94-d0be-40ad-a51c-9e4a4692ebbf",
   "metadata": {},
   "outputs": [
    {
     "data": {
      "text/html": [
       "<table class=\"dataframe\">\n",
       "<caption>A tibble: 9 × 4</caption>\n",
       "<thead>\n",
       "\t<tr><th scope=col>state_prov</th><th scope=col>count</th><th scope=col>mean_weight</th><th scope=col>mean_ott</th></tr>\n",
       "\t<tr><th scope=col>&lt;chr&gt;</th><th scope=col>&lt;int&gt;</th><th scope=col>&lt;dbl&gt;</th><th scope=col>&lt;dbl&gt;</th></tr>\n",
       "</thead>\n",
       "<tbody>\n",
       "\t<tr><td>Ontario             </td><td>2021</td><td>279.6772</td><td>156.57204</td></tr>\n",
       "\t<tr><td>Nova Scotia         </td><td>1049</td><td>270.1331</td><td>108.23799</td></tr>\n",
       "\t<tr><td>Quebec              </td><td> 457</td><td>339.2128</td><td>142.80494</td></tr>\n",
       "\t<tr><td>Alberta             </td><td> 300</td><td>228.1775</td><td> 21.53691</td></tr>\n",
       "\t<tr><td>Manitoba            </td><td> 262</td><td>366.7865</td><td>248.61000</td></tr>\n",
       "\t<tr><td>New Brunswick       </td><td> 211</td><td>357.9574</td><td>235.55450</td></tr>\n",
       "\t<tr><td>British Columbia    </td><td> 183</td><td>416.9342</td><td>251.45198</td></tr>\n",
       "\t<tr><td>Prince Edward Island</td><td>  24</td><td>359.9670</td><td>232.63158</td></tr>\n",
       "\t<tr><td>Saskatchewan        </td><td>  15</td><td>645.0385</td><td> 24.00000</td></tr>\n",
       "</tbody>\n",
       "</table>\n"
      ],
      "text/latex": [
       "A tibble: 9 × 4\n",
       "\\begin{tabular}{llll}\n",
       " state\\_prov & count & mean\\_weight & mean\\_ott\\\\\n",
       " <chr> & <int> & <dbl> & <dbl>\\\\\n",
       "\\hline\n",
       "\t Ontario              & 2021 & 279.6772 & 156.57204\\\\\n",
       "\t Nova Scotia          & 1049 & 270.1331 & 108.23799\\\\\n",
       "\t Quebec               &  457 & 339.2128 & 142.80494\\\\\n",
       "\t Alberta              &  300 & 228.1775 &  21.53691\\\\\n",
       "\t Manitoba             &  262 & 366.7865 & 248.61000\\\\\n",
       "\t New Brunswick        &  211 & 357.9574 & 235.55450\\\\\n",
       "\t British Columbia     &  183 & 416.9342 & 251.45198\\\\\n",
       "\t Prince Edward Island &   24 & 359.9670 & 232.63158\\\\\n",
       "\t Saskatchewan         &   15 & 645.0385 &  24.00000\\\\\n",
       "\\end{tabular}\n"
      ],
      "text/markdown": [
       "\n",
       "A tibble: 9 × 4\n",
       "\n",
       "| state_prov &lt;chr&gt; | count &lt;int&gt; | mean_weight &lt;dbl&gt; | mean_ott &lt;dbl&gt; |\n",
       "|---|---|---|---|\n",
       "| Ontario              | 2021 | 279.6772 | 156.57204 |\n",
       "| Nova Scotia          | 1049 | 270.1331 | 108.23799 |\n",
       "| Quebec               |  457 | 339.2128 | 142.80494 |\n",
       "| Alberta              |  300 | 228.1775 |  21.53691 |\n",
       "| Manitoba             |  262 | 366.7865 | 248.61000 |\n",
       "| New Brunswick        |  211 | 357.9574 | 235.55450 |\n",
       "| British Columbia     |  183 | 416.9342 | 251.45198 |\n",
       "| Prince Edward Island |   24 | 359.9670 | 232.63158 |\n",
       "| Saskatchewan         |   15 | 645.0385 |  24.00000 |\n",
       "\n"
      ],
      "text/plain": [
       "  state_prov           count mean_weight mean_ott \n",
       "1 Ontario              2021  279.6772    156.57204\n",
       "2 Nova Scotia          1049  270.1331    108.23799\n",
       "3 Quebec                457  339.2128    142.80494\n",
       "4 Alberta               300  228.1775     21.53691\n",
       "5 Manitoba              262  366.7865    248.61000\n",
       "6 New Brunswick         211  357.9574    235.55450\n",
       "7 British Columbia      183  416.9342    251.45198\n",
       "8 Prince Edward Island   24  359.9670    232.63158\n",
       "9 Saskatchewan           15  645.0385     24.00000"
      ]
     },
     "metadata": {},
     "output_type": "display_data"
    }
   ],
   "source": [
    "# avg weight by Canada provence\n",
    "pumpkins_canada_summary <- pumpkins_canada |>\n",
    "  group_by(state_prov) |>\n",
    "  summarize(count = n(), mean_weight = mean(weight_lbs, na.rm = TRUE), mean_ott = mean(ott, na.rm = TRUE)) |>\n",
    "  arrange(desc(count))\n",
    "pumpkins_canada_summary"
   ]
  },
  {
   "cell_type": "code",
   "execution_count": 18,
   "id": "85c383f2-f567-4c59-bb2d-dd2e1f0c44a6",
   "metadata": {},
   "outputs": [
    {
     "data": {
      "image/png": "[encoded data removed]",
      "text/plain": [
       "plot without title"
      ]
     },
     "metadata": {
      "image/png": {
       "height": 600,
       "width": 600
      }
     },
     "output_type": "display_data"
    }
   ],
   "source": [
    "# avg weight / avg ott by provence\n",
    "options(repr.plot.width = 10, repr.plot.height = 10)\n",
    "weight_ott_canada_plot <- pumpkins_canada_summary |>\n",
    "  ggplot(aes(x = mean_ott, y = mean_weight, color = state_prov)) +\n",
    "  geom_point(size = 6) +\n",
    "  theme(legend.text = element_text(size = 14))\n",
    "\n",
    "weight_ott_canada_plot"
   ]
  },
  {
   "cell_type": "code",
   "execution_count": 19,
   "id": "dc8650f0-134c-4872-a1ed-32bfa0f195f7",
   "metadata": {},
   "outputs": [
    {
     "data": {
      "text/html": [
       "<table class=\"dataframe\">\n",
       "<caption>A tibble: 9 × 4</caption>\n",
       "<thead>\n",
       "\t<tr><th scope=col>year</th><th scope=col>count</th><th scope=col>mean_weight</th><th scope=col>mean_ott</th></tr>\n",
       "\t<tr><th scope=col>&lt;chr&gt;</th><th scope=col>&lt;int&gt;</th><th scope=col>&lt;dbl&gt;</th><th scope=col>&lt;dbl&gt;</th></tr>\n",
       "</thead>\n",
       "<tbody>\n",
       "\t<tr><td>2013</td><td>2888</td><td>313.6560</td><td>191.3936</td></tr>\n",
       "\t<tr><td>2014</td><td>3173</td><td>327.9869</td><td>198.6641</td></tr>\n",
       "\t<tr><td>2015</td><td>3313</td><td>328.4398</td><td>207.5368</td></tr>\n",
       "\t<tr><td>2016</td><td>3212</td><td>305.6970</td><td>199.2751</td></tr>\n",
       "\t<tr><td>2017</td><td>3139</td><td>307.2380</td><td>198.5312</td></tr>\n",
       "\t<tr><td>2018</td><td>3299</td><td>303.8006</td><td>206.1122</td></tr>\n",
       "\t<tr><td>2019</td><td>3375</td><td>278.7640</td><td>195.1946</td></tr>\n",
       "\t<tr><td>2020</td><td>2854</td><td>283.2188</td><td>210.5419</td></tr>\n",
       "\t<tr><td>2021</td><td>2758</td><td>278.7206</td><td>217.1244</td></tr>\n",
       "</tbody>\n",
       "</table>\n"
      ],
      "text/latex": [
       "A tibble: 9 × 4\n",
       "\\begin{tabular}{llll}\n",
       " year & count & mean\\_weight & mean\\_ott\\\\\n",
       " <chr> & <int> & <dbl> & <dbl>\\\\\n",
       "\\hline\n",
       "\t 2013 & 2888 & 313.6560 & 191.3936\\\\\n",
       "\t 2014 & 3173 & 327.9869 & 198.6641\\\\\n",
       "\t 2015 & 3313 & 328.4398 & 207.5368\\\\\n",
       "\t 2016 & 3212 & 305.6970 & 199.2751\\\\\n",
       "\t 2017 & 3139 & 307.2380 & 198.5312\\\\\n",
       "\t 2018 & 3299 & 303.8006 & 206.1122\\\\\n",
       "\t 2019 & 3375 & 278.7640 & 195.1946\\\\\n",
       "\t 2020 & 2854 & 283.2188 & 210.5419\\\\\n",
       "\t 2021 & 2758 & 278.7206 & 217.1244\\\\\n",
       "\\end{tabular}\n"
      ],
      "text/markdown": [
       "\n",
       "A tibble: 9 × 4\n",
       "\n",
       "| year &lt;chr&gt; | count &lt;int&gt; | mean_weight &lt;dbl&gt; | mean_ott &lt;dbl&gt; |\n",
       "|---|---|---|---|\n",
       "| 2013 | 2888 | 313.6560 | 191.3936 |\n",
       "| 2014 | 3173 | 327.9869 | 198.6641 |\n",
       "| 2015 | 3313 | 328.4398 | 207.5368 |\n",
       "| 2016 | 3212 | 305.6970 | 199.2751 |\n",
       "| 2017 | 3139 | 307.2380 | 198.5312 |\n",
       "| 2018 | 3299 | 303.8006 | 206.1122 |\n",
       "| 2019 | 3375 | 278.7640 | 195.1946 |\n",
       "| 2020 | 2854 | 283.2188 | 210.5419 |\n",
       "| 2021 | 2758 | 278.7206 | 217.1244 |\n",
       "\n"
      ],
      "text/plain": [
       "  year count mean_weight mean_ott\n",
       "1 2013 2888  313.6560    191.3936\n",
       "2 2014 3173  327.9869    198.6641\n",
       "3 2015 3313  328.4398    207.5368\n",
       "4 2016 3212  305.6970    199.2751\n",
       "5 2017 3139  307.2380    198.5312\n",
       "6 2018 3299  303.8006    206.1122\n",
       "7 2019 3375  278.7640    195.1946\n",
       "8 2020 2854  283.2188    210.5419\n",
       "9 2021 2758  278.7206    217.1244"
      ]
     },
     "metadata": {},
     "output_type": "display_data"
    },
    {
     "data": {
      "image/png": "[encoded data removed]",
      "text/plain": [
       "plot without title"
      ]
     },
     "metadata": {
      "image/png": {
       "height": 600,
       "width": 600
      }
     },
     "output_type": "display_data"
    }
   ],
   "source": [
    "# avg weight by year\n",
    "pumpkins_year_summary <- pumpkins_tidy |>\n",
    "  group_by(year) |>\n",
    "  summarize(count = n(), mean_weight = mean(weight_lbs, na.rm = TRUE), mean_ott = mean(ott, na.rm = TRUE))\n",
    "pumpkins_year_summary\n",
    "\n",
    "weight_ott_year_plot <- pumpkins_year_summary |>\n",
    "  ggplot(aes(x = year, y = mean_weight)) +\n",
    "  geom_point(size = 6) +\n",
    "  theme(legend.text = element_text(size = 14))\n",
    "\n",
    "weight_ott_year_plot"
   ]
  },
  {
   "cell_type": "code",
   "execution_count": 20,
   "id": "92a4cd91-b521-4f44-bdae-22259b470044",
   "metadata": {},
   "outputs": [
    {
     "data": {
      "text/html": [
       "<table class=\"dataframe\">\n",
       "<caption>A tibble: 50 × 4</caption>\n",
       "<thead>\n",
       "\t<tr><th scope=col>state_prov</th><th scope=col>count</th><th scope=col>mean_weight</th><th scope=col>mean_ott</th></tr>\n",
       "\t<tr><th scope=col>&lt;chr&gt;</th><th scope=col>&lt;int&gt;</th><th scope=col>&lt;dbl&gt;</th><th scope=col>&lt;dbl&gt;</th></tr>\n",
       "</thead>\n",
       "<tbody>\n",
       "\t<tr><td>Maryland</td><td>  7</td><td>769.7143</td><td>329.2857</td></tr>\n",
       "\t<tr><td>Maine   </td><td>332</td><td>452.1751</td><td>195.0333</td></tr>\n",
       "\t<tr><td>Idaho   </td><td> 42</td><td>449.8280</td><td>244.4615</td></tr>\n",
       "\t<tr><td>Illinois</td><td>192</td><td>446.2461</td><td>285.1453</td></tr>\n",
       "\t<tr><td>Delaware</td><td>  5</td><td>430.5000</td><td>328.6000</td></tr>\n",
       "\t<tr><td>...</td><td>...</td><td>...</td><td>...</td></tr>\n",
       "\t<tr><td>Nevada    </td><td>  7</td><td>156.0428571</td><td>123.28571</td></tr>\n",
       "\t<tr><td>Arkansas  </td><td>131</td><td>153.8684733</td><td>106.02459</td></tr>\n",
       "\t<tr><td>Missouri  </td><td>165</td><td>141.9575484</td><td> 48.50355</td></tr>\n",
       "\t<tr><td>New Mexico</td><td>  3</td><td>  3.9966667</td><td>      NaN</td></tr>\n",
       "\t<tr><td>Hawaii    </td><td>  3</td><td>  0.7366667</td><td>      NaN</td></tr>\n",
       "</tbody>\n",
       "</table>\n"
      ],
      "text/latex": [
       "A tibble: 50 × 4\n",
       "\\begin{tabular}{llll}\n",
       " state\\_prov & count & mean\\_weight & mean\\_ott\\\\\n",
       " <chr> & <int> & <dbl> & <dbl>\\\\\n",
       "\\hline\n",
       "\t Maryland &   7 & 769.7143 & 329.2857\\\\\n",
       "\t Maine    & 332 & 452.1751 & 195.0333\\\\\n",
       "\t Idaho    &  42 & 449.8280 & 244.4615\\\\\n",
       "\t Illinois & 192 & 446.2461 & 285.1453\\\\\n",
       "\t Delaware &   5 & 430.5000 & 328.6000\\\\\n",
       "\t ... & ... & ... & ...\\\\\n",
       "\t Nevada     &   7 & 156.0428571 & 123.28571\\\\\n",
       "\t Arkansas   & 131 & 153.8684733 & 106.02459\\\\\n",
       "\t Missouri   & 165 & 141.9575484 &  48.50355\\\\\n",
       "\t New Mexico &   3 &   3.9966667 &       NaN\\\\\n",
       "\t Hawaii     &   3 &   0.7366667 &       NaN\\\\\n",
       "\\end{tabular}\n"
      ],
      "text/markdown": [
       "\n",
       "A tibble: 50 × 4\n",
       "\n",
       "| state_prov &lt;chr&gt; | count &lt;int&gt; | mean_weight &lt;dbl&gt; | mean_ott &lt;dbl&gt; |\n",
       "|---|---|---|---|\n",
       "| Maryland |   7 | 769.7143 | 329.2857 |\n",
       "| Maine    | 332 | 452.1751 | 195.0333 |\n",
       "| Idaho    |  42 | 449.8280 | 244.4615 |\n",
       "| Illinois | 192 | 446.2461 | 285.1453 |\n",
       "| Delaware |   5 | 430.5000 | 328.6000 |\n",
       "| ... | ... | ... | ... |\n",
       "| Nevada     |   7 | 156.0428571 | 123.28571 |\n",
       "| Arkansas   | 131 | 153.8684733 | 106.02459 |\n",
       "| Missouri   | 165 | 141.9575484 |  48.50355 |\n",
       "| New Mexico |   3 |   3.9966667 |       NaN |\n",
       "| Hawaii     |   3 |   0.7366667 |       NaN |\n",
       "\n"
      ],
      "text/plain": [
       "    state_prov count mean_weight mean_ott \n",
       "1   Maryland     7   769.7143    329.2857 \n",
       "2   Maine      332   452.1751    195.0333 \n",
       "3   Idaho       42   449.8280    244.4615 \n",
       "4   Illinois   192   446.2461    285.1453 \n",
       "5   Delaware     5   430.5000    328.6000 \n",
       "... ...        ...   ...         ...      \n",
       "46  Nevada       7   156.0428571 123.28571\n",
       "47  Arkansas   131   153.8684733 106.02459\n",
       "48  Missouri   165   141.9575484  48.50355\n",
       "49  New Mexico   3     3.9966667       NaN\n",
       "50  Hawaii       3     0.7366667       NaN"
      ]
     },
     "metadata": {},
     "output_type": "display_data"
    }
   ],
   "source": [
    "# avg weight by USA states\n",
    "pumpkins_usa <- pumpkins_tidy |>\n",
    "  filter(country == \"United States\")\n",
    "\n",
    "pumpkins_usa_summary <- pumpkins_usa |>\n",
    "  group_by(state_prov) |>\n",
    "  summarize(count = n(), mean_weight = mean(weight_lbs, na.rm = TRUE), mean_ott = mean(ott, na.rm = TRUE)) |>\n",
    "  arrange(desc(mean_weight))\n",
    "pumpkins_usa_summary"
   ]
  },
  {
   "cell_type": "code",
   "execution_count": 21,
   "id": "b11b86b6-2941-4c37-9304-d3e29061d49b",
   "metadata": {},
   "outputs": [
    {
     "name": "stderr",
     "output_type": "stream",
     "text": [
      "Warning message:\n",
      "\"Removed 2 rows containing missing values (geom_point).\"\n"
     ]
    },
    {
     "data": {
      "image/png": "[encoded data removed]",
      "text/plain": [
       "plot without title"
      ]
     },
     "metadata": {
      "image/png": {
       "height": 600,
       "width": 600
      }
     },
     "output_type": "display_data"
    }
   ],
   "source": [
    "options(repr.plot.width = 10, repr.plot.height = 10)\n",
    "weight_ott_usa_plot <- pumpkins_usa_summary |>\n",
    "  ggplot(aes(x = mean_ott, y = mean_weight, color = state_prov)) +\n",
    "  geom_point(size = 6) +\n",
    "  theme(legend.text = element_text(size = 14))\n",
    "\n",
    "weight_ott_usa_plot"
   ]
  },
  {
   "cell_type": "markdown",
   "id": "3a2b1218-4ce7-42f5-a947-951b11256cd1",
   "metadata": {},
   "source": [
    "# Potential Questions\n",
    "- The mean weight in lbs of giant pumpkins grown in Europe is different from that of Americas\n",
    "- The mean weight in lbs of giant pumpkins grown in Province A is different from that of Province B\n",
    "- The mean weight in lbs of giant pumpkins grown in 2019 is less that that of 2018,"
   ]
  },
  {
   "cell_type": "code",
   "execution_count": null,
   "id": "645fa51a-9ddd-4be4-8e6a-2b43c8a7fca5",
   "metadata": {},
   "outputs": [],
   "source": []
  },
  {
   "cell_type": "code",
   "execution_count": null,
   "id": "4c19f760-30a3-4d4a-8bc1-67ea558c8865",
   "metadata": {},
   "outputs": [],
   "source": []
  }
 ],
 "metadata": {
  "kernelspec": {
   "display_name": "R",
   "language": "R",
   "name": "ir"
  },
  "language_info": {
   "codemirror_mode": "r",
   "file_extension": ".r",
   "mimetype": "text/x-r-source",
   "name": "R",
   "pygments_lexer": "r",
   "version": "4.1.1"
  }
 },
 "nbformat": 4,
 "nbformat_minor": 5
}
