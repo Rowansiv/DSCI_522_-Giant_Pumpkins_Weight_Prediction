{
 "cells": [
  {
   "cell_type": "code",
   "execution_count": 2,
   "id": "da578889-e4f9-4fb8-bf7b-79a5bbe43050",
   "metadata": {},
   "outputs": [],
   "source": [
    "import locale\n",
    "import os\n",
    "import re\n",
    "\n",
    "import pandas as pd\n",
    "from sklearn.model_selection import train_test_split"
   ]
  },
  {
   "cell_type": "code",
   "execution_count": 7,
   "id": "e57140e9-2d4d-42d5-8479-e8f2627f2e35",
   "metadata": {
    "tags": []
   },
   "outputs": [],
   "source": [
    "import altair as alt\n",
    "\n",
    "alt.data_transformers.enable(\"data_server\")\n",
    "alt.renderers.enable(\"mimetype\")\n",
    "\n",
    "path = \"~/mds/522/project_fork/test_script/pumpkins_train.csv\"\n",
    "train_df = pd.read_csv(path)"
   ]
  },
  {
   "cell_type": "code",
   "execution_count": 14,
   "id": "8915366d-7932-446d-817e-fed3ad9076b5",
   "metadata": {
    "tags": []
   },
   "outputs": [
    {
     "name": "stdout",
     "output_type": "stream",
     "text": [
      "<class 'pandas.core.frame.DataFrame'>\n",
      "RangeIndex: 28011 entries, 0 to 28010\n",
      "Data columns (total 14 columns):\n",
      " #   Column             Non-Null Count  Dtype  \n",
      "---  ------             --------------  -----  \n",
      " 0   id                 28011 non-null  object \n",
      " 1   place              28011 non-null  object \n",
      " 2   weight_lbs         28011 non-null  float64\n",
      " 3   grower_name        28011 non-null  object \n",
      " 4   city               25232 non-null  object \n",
      " 5   state_prov         28011 non-null  object \n",
      " 6   country            28011 non-null  object \n",
      " 7   gpc_site           28011 non-null  object \n",
      " 8   seed_mother        19468 non-null  object \n",
      " 9   pollinator_father  17704 non-null  object \n",
      " 10  ott                24854 non-null  float64\n",
      " 11  est_weight         24854 non-null  float64\n",
      " 12  pct_chart          24854 non-null  float64\n",
      " 13  variety            715 non-null    object \n",
      "dtypes: float64(4), object(10)\n",
      "memory usage: 3.0+ MB\n"
     ]
    }
   ],
   "source": [
    "locale.setlocale(locale.LC_ALL, \"en_US.UTF-8\")\n",
    "\n",
    "temp_file = \"temp.csv\"\n",
    "path = \"../../data/raw/pumpkins.csv\"\n",
    "\n",
    "pumpkins_df = pd.read_csv(path)\n",
    "# skip separator rows between groups of same id (format: place column with the string \"N Entries\")\n",
    "pumpkins_df = pumpkins_df[-pumpkins_df[\"place\"].str.contains(\"Entries\")]\n",
    "\n",
    "# convert 'weight_lbs', 'ott' from string to numeric\n",
    "# pumpkins_df[\"weight_lbs\"] = pumpkins_df[\"weight_lbs\"].apply(locale.atof)\n",
    "# pumpkins_df[\"ott\"] = pumpkins_df[\"ott\"].apply(locale.atof)\n",
    "\n",
    "\n",
    "# create temp file with separator rows removed and call read_csv again with numeric format\n",
    "pumpkins_df.to_csv(temp_file, index=False)\n",
    "pumpkins_df = pd.read_csv(temp_file, thousands=\",\")\n",
    "os.remove(temp_file)\n",
    "pumpkins_df.info()"
   ]
  },
  {
   "cell_type": "code",
   "execution_count": 257,
   "id": "bd3d83a2-fcaa-435a-a974-4369ef12e51f",
   "metadata": {},
   "outputs": [
    {
     "data": {
      "text/plain": [
       "False    27776\n",
       "True       235\n",
       "Name: pollinator_father, dtype: int64"
      ]
     },
     "execution_count": 257,
     "metadata": {},
     "output_type": "execute_result"
    }
   ],
   "source": [
    "# skip\n",
    "bool = pumpkins_df[\"pollinator_father\"].str.contains(\n",
    "    \"^unk\", flags=re.IGNORECASE, regex=True, na=False\n",
    ")\n",
    "bool.value_counts()"
   ]
  },
  {
   "cell_type": "code",
   "execution_count": 258,
   "id": "29741266-a58b-417e-8527-660e093fe023",
   "metadata": {},
   "outputs": [],
   "source": [
    "# skip\n",
    "# tidy data\n",
    "\n",
    "pumpkins_df.dropna(subset=[\"seed_mother\", \"pollinator_father\"], inplace=True)\n",
    "\n",
    "# drop rows with unknown seed_mother\n",
    "pumpkins_df = pumpkins_df[\n",
    "    -pumpkins_df[\"seed_mother\"].str.contains(\n",
    "        \"^unk\", flags=re.IGNORECASE, regex=True, na=False\n",
    "    )\n",
    "]\n",
    "# drop rows with unknown pollinator_father\n",
    "pumpkins_df = pumpkins_df[\n",
    "    -pumpkins_df[\"pollinator_father\"].str.contains(\n",
    "        \"^unk\", flags=re.IGNORECASE, regex=True, na=False\n",
    "    )\n",
    "]"
   ]
  },
  {
   "cell_type": "code",
   "execution_count": 259,
   "id": "7927e2c3-66c3-4d87-a8ad-602ee14d4cc7",
   "metadata": {},
   "outputs": [
    {
     "data": {
      "text/plain": [
       "True     16107\n",
       "False      992\n",
       "Name: seed_mother, dtype: int64"
      ]
     },
     "execution_count": 259,
     "metadata": {},
     "output_type": "execute_result"
    }
   ],
   "source": [
    "# skip\n",
    "bool = pumpkins_df[\"seed_mother\"].str.match(\"^\\d\")\n",
    "bool.value_counts()"
   ]
  },
  {
   "cell_type": "code",
   "execution_count": 260,
   "id": "5abdb8b8-22b0-45e3-9310-8617a76c8f63",
   "metadata": {},
   "outputs": [],
   "source": [
    "# skip\n",
    "# fill seed_weight = 0 if not filled in in 'seed_mother' field\n",
    "pumpkins_df[\"seed_mother\"].where(\n",
    "    pumpkins_df[\"seed_mother\"].str.match(\"^\\d\"),\n",
    "    \"0 \" + pumpkins_df[\"seed_mother\"],\n",
    "    inplace=True,\n",
    ")"
   ]
  },
  {
   "cell_type": "code",
   "execution_count": 261,
   "id": "9fcbde0f-d949-41c3-89af-8c03fcc0d547",
   "metadata": {},
   "outputs": [
    {
     "data": {
      "text/plain": [
       "False    9241\n",
       "True     7858\n",
       "Name: pollinator_father, dtype: int64"
      ]
     },
     "execution_count": 261,
     "metadata": {},
     "output_type": "execute_result"
    }
   ],
   "source": [
    "# skip\n",
    "bool = pumpkins_df[\"pollinator_father\"].str.match(\"^\\d\")\n",
    "bool.value_counts()"
   ]
  },
  {
   "cell_type": "code",
   "execution_count": 262,
   "id": "66a284c0-7c80-421c-844b-acf4ff43f485",
   "metadata": {},
   "outputs": [],
   "source": [
    "# skip\n",
    "# fill seed_weight = 0 if not filled in in 'seed_mother' field\n",
    "pumpkins_df[\"pollinator_father\"].where(\n",
    "    pumpkins_df[\"pollinator_father\"].str.match(\"^\\d\"),\n",
    "    \"0 \" + pumpkins_df[\"pollinator_father\"],\n",
    "    inplace=True,\n",
    ")"
   ]
  },
  {
   "cell_type": "code",
   "execution_count": 15,
   "id": "072500d6-8e0c-4811-ae11-de36cb606b3c",
   "metadata": {},
   "outputs": [
    {
     "data": {
      "text/html": [
       "<div>\n",
       "<style scoped>\n",
       "    .dataframe tbody tr th:only-of-type {\n",
       "        vertical-align: middle;\n",
       "    }\n",
       "\n",
       "    .dataframe tbody tr th {\n",
       "        vertical-align: top;\n",
       "    }\n",
       "\n",
       "    .dataframe thead th {\n",
       "        text-align: right;\n",
       "    }\n",
       "</style>\n",
       "<table border=\"1\" class=\"dataframe\">\n",
       "  <thead>\n",
       "    <tr style=\"text-align: right;\">\n",
       "      <th></th>\n",
       "      <th>id</th>\n",
       "      <th>place</th>\n",
       "      <th>weight_lbs</th>\n",
       "      <th>grower_name</th>\n",
       "      <th>city</th>\n",
       "      <th>state_prov</th>\n",
       "      <th>country</th>\n",
       "      <th>gpc_site</th>\n",
       "      <th>seed_mother</th>\n",
       "      <th>pollinator_father</th>\n",
       "      <th>ott</th>\n",
       "      <th>est_weight</th>\n",
       "      <th>pct_chart</th>\n",
       "      <th>variety</th>\n",
       "    </tr>\n",
       "  </thead>\n",
       "  <tbody>\n",
       "    <tr>\n",
       "      <th>count</th>\n",
       "      <td>28011</td>\n",
       "      <td>28011</td>\n",
       "      <td>28011.000000</td>\n",
       "      <td>28011</td>\n",
       "      <td>25232</td>\n",
       "      <td>28011</td>\n",
       "      <td>28011</td>\n",
       "      <td>28011</td>\n",
       "      <td>19468</td>\n",
       "      <td>17704</td>\n",
       "      <td>24854.000000</td>\n",
       "      <td>24854.000000</td>\n",
       "      <td>24854.000000</td>\n",
       "      <td>715</td>\n",
       "    </tr>\n",
       "    <tr>\n",
       "      <th>unique</th>\n",
       "      <td>54</td>\n",
       "      <td>1797</td>\n",
       "      <td>NaN</td>\n",
       "      <td>7928</td>\n",
       "      <td>3164</td>\n",
       "      <td>134</td>\n",
       "      <td>21</td>\n",
       "      <td>166</td>\n",
       "      <td>9940</td>\n",
       "      <td>4482</td>\n",
       "      <td>NaN</td>\n",
       "      <td>NaN</td>\n",
       "      <td>NaN</td>\n",
       "      <td>77</td>\n",
       "    </tr>\n",
       "    <tr>\n",
       "      <th>top</th>\n",
       "      <td>2015-P</td>\n",
       "      <td>EXH</td>\n",
       "      <td>NaN</td>\n",
       "      <td>Kline, Todd</td>\n",
       "      <td>Steam Mill</td>\n",
       "      <td>Other</td>\n",
       "      <td>United States</td>\n",
       "      <td>Ohio Valley Giant Pumpkin Growers Weigh-off</td>\n",
       "      <td>unknown</td>\n",
       "      <td>open</td>\n",
       "      <td>NaN</td>\n",
       "      <td>NaN</td>\n",
       "      <td>NaN</td>\n",
       "      <td>Big Zac</td>\n",
       "    </tr>\n",
       "    <tr>\n",
       "      <th>freq</th>\n",
       "      <td>1980</td>\n",
       "      <td>1862</td>\n",
       "      <td>NaN</td>\n",
       "      <td>122</td>\n",
       "      <td>292</td>\n",
       "      <td>2242</td>\n",
       "      <td>17070</td>\n",
       "      <td>759</td>\n",
       "      <td>277</td>\n",
       "      <td>2658</td>\n",
       "      <td>NaN</td>\n",
       "      <td>NaN</td>\n",
       "      <td>NaN</td>\n",
       "      <td>349</td>\n",
       "    </tr>\n",
       "    <tr>\n",
       "      <th>mean</th>\n",
       "      <td>NaN</td>\n",
       "      <td>NaN</td>\n",
       "      <td>499.807518</td>\n",
       "      <td>NaN</td>\n",
       "      <td>NaN</td>\n",
       "      <td>NaN</td>\n",
       "      <td>NaN</td>\n",
       "      <td>NaN</td>\n",
       "      <td>NaN</td>\n",
       "      <td>NaN</td>\n",
       "      <td>202.455902</td>\n",
       "      <td>489.835278</td>\n",
       "      <td>0.446769</td>\n",
       "      <td>NaN</td>\n",
       "    </tr>\n",
       "    <tr>\n",
       "      <th>std</th>\n",
       "      <td>NaN</td>\n",
       "      <td>NaN</td>\n",
       "      <td>503.864596</td>\n",
       "      <td>NaN</td>\n",
       "      <td>NaN</td>\n",
       "      <td>NaN</td>\n",
       "      <td>NaN</td>\n",
       "      <td>NaN</td>\n",
       "      <td>NaN</td>\n",
       "      <td>NaN</td>\n",
       "      <td>154.894495</td>\n",
       "      <td>532.645960</td>\n",
       "      <td>17.056937</td>\n",
       "      <td>NaN</td>\n",
       "    </tr>\n",
       "    <tr>\n",
       "      <th>min</th>\n",
       "      <td>NaN</td>\n",
       "      <td>NaN</td>\n",
       "      <td>0.100000</td>\n",
       "      <td>NaN</td>\n",
       "      <td>NaN</td>\n",
       "      <td>NaN</td>\n",
       "      <td>NaN</td>\n",
       "      <td>NaN</td>\n",
       "      <td>NaN</td>\n",
       "      <td>NaN</td>\n",
       "      <td>0.000000</td>\n",
       "      <td>0.000000</td>\n",
       "      <td>-100.000000</td>\n",
       "      <td>NaN</td>\n",
       "    </tr>\n",
       "    <tr>\n",
       "      <th>25%</th>\n",
       "      <td>NaN</td>\n",
       "      <td>NaN</td>\n",
       "      <td>86.500000</td>\n",
       "      <td>NaN</td>\n",
       "      <td>NaN</td>\n",
       "      <td>NaN</td>\n",
       "      <td>NaN</td>\n",
       "      <td>NaN</td>\n",
       "      <td>NaN</td>\n",
       "      <td>NaN</td>\n",
       "      <td>0.000000</td>\n",
       "      <td>0.000000</td>\n",
       "      <td>-3.000000</td>\n",
       "      <td>NaN</td>\n",
       "    </tr>\n",
       "    <tr>\n",
       "      <th>50%</th>\n",
       "      <td>NaN</td>\n",
       "      <td>NaN</td>\n",
       "      <td>308.600000</td>\n",
       "      <td>NaN</td>\n",
       "      <td>NaN</td>\n",
       "      <td>NaN</td>\n",
       "      <td>NaN</td>\n",
       "      <td>NaN</td>\n",
       "      <td>NaN</td>\n",
       "      <td>NaN</td>\n",
       "      <td>233.000000</td>\n",
       "      <td>290.000000</td>\n",
       "      <td>0.000000</td>\n",
       "      <td>NaN</td>\n",
       "    </tr>\n",
       "    <tr>\n",
       "      <th>75%</th>\n",
       "      <td>NaN</td>\n",
       "      <td>NaN</td>\n",
       "      <td>831.000000</td>\n",
       "      <td>NaN</td>\n",
       "      <td>NaN</td>\n",
       "      <td>NaN</td>\n",
       "      <td>NaN</td>\n",
       "      <td>NaN</td>\n",
       "      <td>NaN</td>\n",
       "      <td>NaN</td>\n",
       "      <td>338.000000</td>\n",
       "      <td>878.000000</td>\n",
       "      <td>3.000000</td>\n",
       "      <td>NaN</td>\n",
       "    </tr>\n",
       "    <tr>\n",
       "      <th>max</th>\n",
       "      <td>NaN</td>\n",
       "      <td>NaN</td>\n",
       "      <td>2702.900000</td>\n",
       "      <td>NaN</td>\n",
       "      <td>NaN</td>\n",
       "      <td>NaN</td>\n",
       "      <td>NaN</td>\n",
       "      <td>NaN</td>\n",
       "      <td>NaN</td>\n",
       "      <td>NaN</td>\n",
       "      <td>1132.000000</td>\n",
       "      <td>11033.000000</td>\n",
       "      <td>830.000000</td>\n",
       "      <td>NaN</td>\n",
       "    </tr>\n",
       "  </tbody>\n",
       "</table>\n",
       "</div>"
      ],
      "text/plain": [
       "            id  place    weight_lbs  grower_name        city state_prov  \\\n",
       "count    28011  28011  28011.000000        28011       25232      28011   \n",
       "unique      54   1797           NaN         7928        3164        134   \n",
       "top     2015-P    EXH           NaN  Kline, Todd  Steam Mill      Other   \n",
       "freq      1980   1862           NaN          122         292       2242   \n",
       "mean       NaN    NaN    499.807518          NaN         NaN        NaN   \n",
       "std        NaN    NaN    503.864596          NaN         NaN        NaN   \n",
       "min        NaN    NaN      0.100000          NaN         NaN        NaN   \n",
       "25%        NaN    NaN     86.500000          NaN         NaN        NaN   \n",
       "50%        NaN    NaN    308.600000          NaN         NaN        NaN   \n",
       "75%        NaN    NaN    831.000000          NaN         NaN        NaN   \n",
       "max        NaN    NaN   2702.900000          NaN         NaN        NaN   \n",
       "\n",
       "              country                                     gpc_site  \\\n",
       "count           28011                                        28011   \n",
       "unique             21                                          166   \n",
       "top     United States  Ohio Valley Giant Pumpkin Growers Weigh-off   \n",
       "freq            17070                                          759   \n",
       "mean              NaN                                          NaN   \n",
       "std               NaN                                          NaN   \n",
       "min               NaN                                          NaN   \n",
       "25%               NaN                                          NaN   \n",
       "50%               NaN                                          NaN   \n",
       "75%               NaN                                          NaN   \n",
       "max               NaN                                          NaN   \n",
       "\n",
       "       seed_mother pollinator_father           ott    est_weight  \\\n",
       "count        19468             17704  24854.000000  24854.000000   \n",
       "unique        9940              4482           NaN           NaN   \n",
       "top        unknown              open           NaN           NaN   \n",
       "freq           277              2658           NaN           NaN   \n",
       "mean           NaN               NaN    202.455902    489.835278   \n",
       "std            NaN               NaN    154.894495    532.645960   \n",
       "min            NaN               NaN      0.000000      0.000000   \n",
       "25%            NaN               NaN      0.000000      0.000000   \n",
       "50%            NaN               NaN    233.000000    290.000000   \n",
       "75%            NaN               NaN    338.000000    878.000000   \n",
       "max            NaN               NaN   1132.000000  11033.000000   \n",
       "\n",
       "           pct_chart  variety  \n",
       "count   24854.000000      715  \n",
       "unique           NaN       77  \n",
       "top              NaN  Big Zac  \n",
       "freq             NaN      349  \n",
       "mean        0.446769      NaN  \n",
       "std        17.056937      NaN  \n",
       "min      -100.000000      NaN  \n",
       "25%        -3.000000      NaN  \n",
       "50%         0.000000      NaN  \n",
       "75%         3.000000      NaN  \n",
       "max       830.000000      NaN  "
      ]
     },
     "execution_count": 15,
     "metadata": {},
     "output_type": "execute_result"
    }
   ],
   "source": [
    "pumpkins_df.describe(include=\"all\")"
   ]
  },
  {
   "cell_type": "code",
   "execution_count": 16,
   "id": "d74ff90e-e7c5-45cf-8b70-0b2c6d28754f",
   "metadata": {},
   "outputs": [],
   "source": [
    "# split column 'id' to 'year' and 'type' columns\n",
    "year_type_df = pumpkins_df[\"id\"].str.split(\"-\", expand=True)\n",
    "year_type_df.columns = [\"year\", \"type\"]"
   ]
  },
  {
   "cell_type": "code",
   "execution_count": null,
   "id": "b2d10316-e9f9-4633-a5ae-0a48089b5b09",
   "metadata": {},
   "outputs": [],
   "source": [
    "# skip\n",
    "# split column 'seed_mother' to 'seed_weight', 'seed_grower' and 'seed_year' columns\n",
    "seed_mother_df = pumpkins_df[\"seed_mother\"].str.split(\" \", expand=True)\n",
    "seed_mother_df = seed_mother_df.iloc[:, 0:3]\n",
    "\n",
    "seed_mother_df.columns = [\"seed_weight\", \"seed_grower\", \"seed_year\"]\n",
    "\n",
    "# split column 'pollinator_father' to 'pollinator_weight', 'pollinator_grower' and 'pollinator_year' columns\n",
    "pollinator_father_df = pumpkins_df[\"pollinator_father\"].str.split(\" \", expand=True)\n",
    "pollinator_father_df = pollinator_father_df.iloc[:, 0:3]\n",
    "pollinator_father_df.columns = [\n",
    "    \"pollinator_weight\",\n",
    "    \"pollinator_grower\",\n",
    "    \"pollinator_year\",\n",
    "]"
   ]
  },
  {
   "cell_type": "code",
   "execution_count": 17,
   "id": "9bb71d2b-129a-4141-bf5f-800f2caadb15",
   "metadata": {
    "tags": []
   },
   "outputs": [],
   "source": [
    "# merge new columns with original columns\n",
    "pumpkins_df_processed = pd.concat([pumpkins_df, year_type_df], axis=1)\n",
    "\n",
    "# remove drop features (\n",
    "# remove original columns which are split into new columns\n",
    "# remove 'place' column which are not meaningful in prediction\n",
    "# remove 'variety', 'seed_mother', 'pollinator_father' columns which contain too many NA and invalid values\n",
    "pumpkins_df_processed = pumpkins_df_processed.drop(\n",
    "    columns=[\n",
    "        \"id\",\n",
    "        \"place\",\n",
    "        \"seed_mother\",\n",
    "        \"pollinator_father\",\n",
    "        \"variety\",\n",
    "        \"est_weight\",\n",
    "        \"pct_chart\",\n",
    "    ]\n",
    ")"
   ]
  },
  {
   "cell_type": "code",
   "execution_count": 337,
   "id": "63b4ff53-ba2c-4ad3-8a1b-f010d6ad8a2b",
   "metadata": {},
   "outputs": [
    {
     "data": {
      "text/plain": [
       "True    17096\n",
       "Name: seed_weight, dtype: int64"
      ]
     },
     "execution_count": 337,
     "metadata": {},
     "output_type": "execute_result"
    }
   ],
   "source": [
    "# skip\n",
    "# drop rows if 'seed_weight' or 'pollinator_weight' not in correct format\n",
    "bool = pumpkins_df_processed[\"seed_weight\"].str.match(\"^\\d+\\.?\\d*\")\n",
    "# pumpkins_df = pumpkins_df[pumpkins_df[\"pollinator_father\"].str.match(\"^[\\d]+ \\w\")]\n",
    "# bool = pumpkins_df[\"pollinator_father\"].str.match(\"^\\d+\\.?\\d*[ ]*\\w*\")\n",
    "bool.value_counts()"
   ]
  },
  {
   "cell_type": "code",
   "execution_count": 335,
   "id": "3d9a0c9e-4a3d-43db-be33-85a01f3d3486",
   "metadata": {},
   "outputs": [
    {
     "data": {
      "text/plain": [
       "'130.5'"
      ]
     },
     "execution_count": 335,
     "metadata": {},
     "output_type": "execute_result"
    }
   ],
   "source": [
    "# skip\n",
    "# cast seed_weight, pollinator_weight to float\n",
    "bool = pumpkins_df_processed[\"seed_weight\"].str.isnumeric()\n",
    "pumpkins_df_processed[\"seed_weight\"][4]\n",
    "# bool.value_counts()\n",
    "# pumpkins_df_processed.drop([18], inplace=True)\n",
    "# pumpkins_df_processed.query('seed_weight==\"116martin\"')\n",
    "# pumpkins_df_processed[\"seed_weight\"] = pumpkins_df_processed[\"seed_weight\"].apply(\n",
    "#    locale.atof\n",
    "# )\n",
    "# bool"
   ]
  },
  {
   "cell_type": "code",
   "execution_count": 18,
   "id": "1df9d450-7589-4330-b26a-59b29122e3b3",
   "metadata": {
    "tags": []
   },
   "outputs": [],
   "source": [
    "# reorder columns - move weight_lbs to last column (target)\n",
    "cols = pumpkins_df_processed.columns.tolist()\n",
    "cols = cols[1:] + cols[0:1]\n",
    "cols\n",
    "pumpkins_df_processed = pumpkins_df_processed[cols]"
   ]
  },
  {
   "cell_type": "code",
   "execution_count": 19,
   "id": "ba330fd2-845a-49d2-b2b1-b1df32241db0",
   "metadata": {},
   "outputs": [
    {
     "name": "stdout",
     "output_type": "stream",
     "text": [
      "<class 'pandas.core.frame.DataFrame'>\n",
      "RangeIndex: 28011 entries, 0 to 28010\n",
      "Data columns (total 9 columns):\n",
      " #   Column       Non-Null Count  Dtype  \n",
      "---  ------       --------------  -----  \n",
      " 0   grower_name  28011 non-null  object \n",
      " 1   city         25232 non-null  object \n",
      " 2   state_prov   28011 non-null  object \n",
      " 3   country      28011 non-null  object \n",
      " 4   gpc_site     28011 non-null  object \n",
      " 5   ott          24854 non-null  float64\n",
      " 6   year         28011 non-null  object \n",
      " 7   type         28011 non-null  object \n",
      " 8   weight_lbs   28011 non-null  float64\n",
      "dtypes: float64(2), object(7)\n",
      "memory usage: 1.9+ MB\n"
     ]
    }
   ],
   "source": [
    "# eda\n",
    "pumpkins_df_processed.info()"
   ]
  },
  {
   "cell_type": "code",
   "execution_count": 20,
   "id": "13de52da-e27c-4b62-825c-d5e330b0ec47",
   "metadata": {},
   "outputs": [
    {
     "data": {
      "text/html": [
       "<div>\n",
       "<style scoped>\n",
       "    .dataframe tbody tr th:only-of-type {\n",
       "        vertical-align: middle;\n",
       "    }\n",
       "\n",
       "    .dataframe tbody tr th {\n",
       "        vertical-align: top;\n",
       "    }\n",
       "\n",
       "    .dataframe thead th {\n",
       "        text-align: right;\n",
       "    }\n",
       "</style>\n",
       "<table border=\"1\" class=\"dataframe\">\n",
       "  <thead>\n",
       "    <tr style=\"text-align: right;\">\n",
       "      <th></th>\n",
       "      <th>grower_name</th>\n",
       "      <th>city</th>\n",
       "      <th>state_prov</th>\n",
       "      <th>country</th>\n",
       "      <th>gpc_site</th>\n",
       "      <th>ott</th>\n",
       "      <th>year</th>\n",
       "      <th>type</th>\n",
       "      <th>weight_lbs</th>\n",
       "    </tr>\n",
       "  </thead>\n",
       "  <tbody>\n",
       "    <tr>\n",
       "      <th>count</th>\n",
       "      <td>28011</td>\n",
       "      <td>25232</td>\n",
       "      <td>28011</td>\n",
       "      <td>28011</td>\n",
       "      <td>28011</td>\n",
       "      <td>24854.000000</td>\n",
       "      <td>28011</td>\n",
       "      <td>28011</td>\n",
       "      <td>28011.000000</td>\n",
       "    </tr>\n",
       "    <tr>\n",
       "      <th>unique</th>\n",
       "      <td>7928</td>\n",
       "      <td>3164</td>\n",
       "      <td>134</td>\n",
       "      <td>21</td>\n",
       "      <td>166</td>\n",
       "      <td>NaN</td>\n",
       "      <td>9</td>\n",
       "      <td>6</td>\n",
       "      <td>NaN</td>\n",
       "    </tr>\n",
       "    <tr>\n",
       "      <th>top</th>\n",
       "      <td>Kline, Todd</td>\n",
       "      <td>Steam Mill</td>\n",
       "      <td>Other</td>\n",
       "      <td>United States</td>\n",
       "      <td>Ohio Valley Giant Pumpkin Growers Weigh-off</td>\n",
       "      <td>NaN</td>\n",
       "      <td>2019</td>\n",
       "      <td>P</td>\n",
       "      <td>NaN</td>\n",
       "    </tr>\n",
       "    <tr>\n",
       "      <th>freq</th>\n",
       "      <td>122</td>\n",
       "      <td>292</td>\n",
       "      <td>2242</td>\n",
       "      <td>17070</td>\n",
       "      <td>759</td>\n",
       "      <td>NaN</td>\n",
       "      <td>3375</td>\n",
       "      <td>15956</td>\n",
       "      <td>NaN</td>\n",
       "    </tr>\n",
       "    <tr>\n",
       "      <th>mean</th>\n",
       "      <td>NaN</td>\n",
       "      <td>NaN</td>\n",
       "      <td>NaN</td>\n",
       "      <td>NaN</td>\n",
       "      <td>NaN</td>\n",
       "      <td>202.455902</td>\n",
       "      <td>NaN</td>\n",
       "      <td>NaN</td>\n",
       "      <td>499.807518</td>\n",
       "    </tr>\n",
       "    <tr>\n",
       "      <th>std</th>\n",
       "      <td>NaN</td>\n",
       "      <td>NaN</td>\n",
       "      <td>NaN</td>\n",
       "      <td>NaN</td>\n",
       "      <td>NaN</td>\n",
       "      <td>154.894495</td>\n",
       "      <td>NaN</td>\n",
       "      <td>NaN</td>\n",
       "      <td>503.864596</td>\n",
       "    </tr>\n",
       "    <tr>\n",
       "      <th>min</th>\n",
       "      <td>NaN</td>\n",
       "      <td>NaN</td>\n",
       "      <td>NaN</td>\n",
       "      <td>NaN</td>\n",
       "      <td>NaN</td>\n",
       "      <td>0.000000</td>\n",
       "      <td>NaN</td>\n",
       "      <td>NaN</td>\n",
       "      <td>0.100000</td>\n",
       "    </tr>\n",
       "    <tr>\n",
       "      <th>25%</th>\n",
       "      <td>NaN</td>\n",
       "      <td>NaN</td>\n",
       "      <td>NaN</td>\n",
       "      <td>NaN</td>\n",
       "      <td>NaN</td>\n",
       "      <td>0.000000</td>\n",
       "      <td>NaN</td>\n",
       "      <td>NaN</td>\n",
       "      <td>86.500000</td>\n",
       "    </tr>\n",
       "    <tr>\n",
       "      <th>50%</th>\n",
       "      <td>NaN</td>\n",
       "      <td>NaN</td>\n",
       "      <td>NaN</td>\n",
       "      <td>NaN</td>\n",
       "      <td>NaN</td>\n",
       "      <td>233.000000</td>\n",
       "      <td>NaN</td>\n",
       "      <td>NaN</td>\n",
       "      <td>308.600000</td>\n",
       "    </tr>\n",
       "    <tr>\n",
       "      <th>75%</th>\n",
       "      <td>NaN</td>\n",
       "      <td>NaN</td>\n",
       "      <td>NaN</td>\n",
       "      <td>NaN</td>\n",
       "      <td>NaN</td>\n",
       "      <td>338.000000</td>\n",
       "      <td>NaN</td>\n",
       "      <td>NaN</td>\n",
       "      <td>831.000000</td>\n",
       "    </tr>\n",
       "    <tr>\n",
       "      <th>max</th>\n",
       "      <td>NaN</td>\n",
       "      <td>NaN</td>\n",
       "      <td>NaN</td>\n",
       "      <td>NaN</td>\n",
       "      <td>NaN</td>\n",
       "      <td>1132.000000</td>\n",
       "      <td>NaN</td>\n",
       "      <td>NaN</td>\n",
       "      <td>2702.900000</td>\n",
       "    </tr>\n",
       "  </tbody>\n",
       "</table>\n",
       "</div>"
      ],
      "text/plain": [
       "        grower_name        city state_prov        country  \\\n",
       "count         28011       25232      28011          28011   \n",
       "unique         7928        3164        134             21   \n",
       "top     Kline, Todd  Steam Mill      Other  United States   \n",
       "freq            122         292       2242          17070   \n",
       "mean            NaN         NaN        NaN            NaN   \n",
       "std             NaN         NaN        NaN            NaN   \n",
       "min             NaN         NaN        NaN            NaN   \n",
       "25%             NaN         NaN        NaN            NaN   \n",
       "50%             NaN         NaN        NaN            NaN   \n",
       "75%             NaN         NaN        NaN            NaN   \n",
       "max             NaN         NaN        NaN            NaN   \n",
       "\n",
       "                                           gpc_site           ott   year  \\\n",
       "count                                         28011  24854.000000  28011   \n",
       "unique                                          166           NaN      9   \n",
       "top     Ohio Valley Giant Pumpkin Growers Weigh-off           NaN   2019   \n",
       "freq                                            759           NaN   3375   \n",
       "mean                                            NaN    202.455902    NaN   \n",
       "std                                             NaN    154.894495    NaN   \n",
       "min                                             NaN      0.000000    NaN   \n",
       "25%                                             NaN      0.000000    NaN   \n",
       "50%                                             NaN    233.000000    NaN   \n",
       "75%                                             NaN    338.000000    NaN   \n",
       "max                                             NaN   1132.000000    NaN   \n",
       "\n",
       "         type    weight_lbs  \n",
       "count   28011  28011.000000  \n",
       "unique      6           NaN  \n",
       "top         P           NaN  \n",
       "freq    15956           NaN  \n",
       "mean      NaN    499.807518  \n",
       "std       NaN    503.864596  \n",
       "min       NaN      0.100000  \n",
       "25%       NaN     86.500000  \n",
       "50%       NaN    308.600000  \n",
       "75%       NaN    831.000000  \n",
       "max       NaN   2702.900000  "
      ]
     },
     "execution_count": 20,
     "metadata": {},
     "output_type": "execute_result"
    }
   ],
   "source": [
    "# eda\n",
    "pumpkins_df_processed.describe(include=\"all\")"
   ]
  },
  {
   "cell_type": "code",
   "execution_count": 22,
   "id": "478236b6-9dbe-43cd-ad08-3a84d936c698",
   "metadata": {
    "tags": []
   },
   "outputs": [],
   "source": [
    "# Split train and test data\n",
    "train_df, test_df = train_test_split(\n",
    "    pumpkins_df_processed, test_size=0.3, random_state=123\n",
    ")"
   ]
  },
  {
   "cell_type": "code",
   "execution_count": null,
   "id": "1bc73d05-10c6-4939-b3f2-9c6a520614b2",
   "metadata": {},
   "outputs": [],
   "source": [
    "# Transform Data\n",
    "# Apply transformation to different feature types\n",
    "numeric_features = [\"ott\"]\n",
    "categorical_features = [\n",
    "    \"grower_name\",\n",
    "    \"city\",\n",
    "    \"state_prov\",\n",
    "    \"country\",\n",
    "    \"gpc_site\",\n",
    "    \"type\",\n",
    "]"
   ]
  },
  {
   "cell_type": "code",
   "execution_count": 23,
   "id": "18bfb973-6cca-4a1a-a882-49c7fd5870a6",
   "metadata": {},
   "outputs": [
    {
     "name": "stdout",
     "output_type": "stream",
     "text": [
      "<class 'pandas.core.frame.DataFrame'>\n",
      "Int64Index: 19607 entries, 6024 to 19966\n",
      "Data columns (total 9 columns):\n",
      " #   Column       Non-Null Count  Dtype  \n",
      "---  ------       --------------  -----  \n",
      " 0   grower_name  19607 non-null  object \n",
      " 1   city         17645 non-null  object \n",
      " 2   state_prov   19607 non-null  object \n",
      " 3   country      19607 non-null  object \n",
      " 4   gpc_site     19607 non-null  object \n",
      " 5   ott          17382 non-null  float64\n",
      " 6   year         19607 non-null  object \n",
      " 7   type         19607 non-null  object \n",
      " 8   weight_lbs   19607 non-null  float64\n",
      "dtypes: float64(2), object(7)\n",
      "memory usage: 1.5+ MB\n"
     ]
    }
   ],
   "source": [
    "train_df.info()"
   ]
  },
  {
   "cell_type": "code",
   "execution_count": 24,
   "id": "22e6039c-a488-4791-a5f6-cd2098332296",
   "metadata": {},
   "outputs": [
    {
     "name": "stdout",
     "output_type": "stream",
     "text": [
      "<class 'pandas.core.frame.DataFrame'>\n",
      "Int64Index: 8404 entries, 17452 to 27277\n",
      "Data columns (total 9 columns):\n",
      " #   Column       Non-Null Count  Dtype  \n",
      "---  ------       --------------  -----  \n",
      " 0   grower_name  8404 non-null   object \n",
      " 1   city         7587 non-null   object \n",
      " 2   state_prov   8404 non-null   object \n",
      " 3   country      8404 non-null   object \n",
      " 4   gpc_site     8404 non-null   object \n",
      " 5   ott          7472 non-null   float64\n",
      " 6   year         8404 non-null   object \n",
      " 7   type         8404 non-null   object \n",
      " 8   weight_lbs   8404 non-null   float64\n",
      "dtypes: float64(2), object(7)\n",
      "memory usage: 656.6+ KB\n"
     ]
    }
   ],
   "source": [
    "test_df.info()"
   ]
  },
  {
   "cell_type": "code",
   "execution_count": 25,
   "id": "69d33133-1d2a-4fd2-a94e-b3e8e7872507",
   "metadata": {},
   "outputs": [],
   "source": [
    "# Write train data and test data to file\n",
    "train_df.to_csv(\"pumpkins_train.csv\")\n",
    "test_df.to_csv(\"pumpkins_test.csv\")"
   ]
  },
  {
   "cell_type": "code",
   "execution_count": 5,
   "id": "2a8041a9-2da7-432e-8d9c-f2ecc6bb4072",
   "metadata": {
    "tags": []
   },
   "outputs": [],
   "source": [
    "pumpkins_df_merged = pd.concat(\n",
    "    [pumpkins_df, year_type_df, seed_mother_df, pollinator_father_df], axis=1\n",
    ")\n",
    "\n",
    "pumpkins_df_merged\n",
    "pumpkins_df_merged.to_csv(saved_path)"
   ]
  },
  {
   "cell_type": "code",
   "execution_count": 25,
   "id": "51253cd3-1796-496b-aa9b-a35905952388",
   "metadata": {
    "tags": []
   },
   "outputs": [
    {
     "name": "stdout",
     "output_type": "stream",
     "text": [
      "<class 'pandas.core.frame.DataFrame'>\n",
      "Int64Index: 19607 entries, 6024 to 19966\n",
      "Data columns (total 14 columns):\n",
      " #   Column             Non-Null Count  Dtype  \n",
      "---  ------             --------------  -----  \n",
      " 0   id                 19607 non-null  object \n",
      " 1   place              19607 non-null  object \n",
      " 2   weight_lbs         19607 non-null  float64\n",
      " 3   grower_name        19607 non-null  object \n",
      " 4   city               17645 non-null  object \n",
      " 5   state_prov         19607 non-null  object \n",
      " 6   country            19607 non-null  object \n",
      " 7   gpc_site           19607 non-null  object \n",
      " 8   seed_mother        13679 non-null  object \n",
      " 9   pollinator_father  12460 non-null  object \n",
      " 10  ott                17382 non-null  float64\n",
      " 11  est_weight         17382 non-null  float64\n",
      " 12  pct_chart          17382 non-null  float64\n",
      " 13  variety            499 non-null    object \n",
      "dtypes: float64(4), object(10)\n",
      "memory usage: 2.2+ MB\n"
     ]
    }
   ],
   "source": [
    "train_df.info()"
   ]
  },
  {
   "cell_type": "code",
   "execution_count": 26,
   "id": "a78eaa54-dbf4-4ae8-9ea9-637471420a00",
   "metadata": {},
   "outputs": [],
   "source": [
    "# Process data"
   ]
  },
  {
   "cell_type": "code",
   "execution_count": 27,
   "id": "c24dcdfa-46a3-4ef9-870a-32fb2b6ffab4",
   "metadata": {
    "tags": []
   },
   "outputs": [
    {
     "name": "stdout",
     "output_type": "stream",
     "text": [
      "<class 'pandas.core.frame.DataFrame'>\n",
      "Int64Index: 8404 entries, 17452 to 27277\n",
      "Data columns (total 14 columns):\n",
      " #   Column             Non-Null Count  Dtype  \n",
      "---  ------             --------------  -----  \n",
      " 0   id                 8404 non-null   object \n",
      " 1   place              8404 non-null   object \n",
      " 2   weight_lbs         8404 non-null   float64\n",
      " 3   grower_name        8404 non-null   object \n",
      " 4   city               7587 non-null   object \n",
      " 5   state_prov         8404 non-null   object \n",
      " 6   country            8404 non-null   object \n",
      " 7   gpc_site           8404 non-null   object \n",
      " 8   seed_mother        5789 non-null   object \n",
      " 9   pollinator_father  5244 non-null   object \n",
      " 10  ott                7472 non-null   float64\n",
      " 11  est_weight         7472 non-null   float64\n",
      " 12  pct_chart          7472 non-null   float64\n",
      " 13  variety            216 non-null    object \n",
      "dtypes: float64(4), object(10)\n",
      "memory usage: 984.8+ KB\n"
     ]
    }
   ],
   "source": [
    "test_df.info()"
   ]
  },
  {
   "cell_type": "code",
   "execution_count": 28,
   "id": "bb33db46-25f5-40f5-b1a1-870474992ef3",
   "metadata": {},
   "outputs": [
    {
     "data": {
      "text/html": [
       "<div>\n",
       "<style scoped>\n",
       "    .dataframe tbody tr th:only-of-type {\n",
       "        vertical-align: middle;\n",
       "    }\n",
       "\n",
       "    .dataframe tbody tr th {\n",
       "        vertical-align: top;\n",
       "    }\n",
       "\n",
       "    .dataframe thead th {\n",
       "        text-align: right;\n",
       "    }\n",
       "</style>\n",
       "<table border=\"1\" class=\"dataframe\">\n",
       "  <thead>\n",
       "    <tr style=\"text-align: right;\">\n",
       "      <th></th>\n",
       "      <th>id</th>\n",
       "      <th>place</th>\n",
       "      <th>weight_lbs</th>\n",
       "      <th>grower_name</th>\n",
       "      <th>city</th>\n",
       "      <th>state_prov</th>\n",
       "      <th>country</th>\n",
       "      <th>gpc_site</th>\n",
       "      <th>seed_mother</th>\n",
       "      <th>pollinator_father</th>\n",
       "      <th>ott</th>\n",
       "      <th>est_weight</th>\n",
       "      <th>pct_chart</th>\n",
       "      <th>variety</th>\n",
       "    </tr>\n",
       "  </thead>\n",
       "  <tbody>\n",
       "    <tr>\n",
       "      <th>count</th>\n",
       "      <td>19607</td>\n",
       "      <td>19607</td>\n",
       "      <td>19607.000000</td>\n",
       "      <td>19607</td>\n",
       "      <td>17645</td>\n",
       "      <td>19607</td>\n",
       "      <td>19607</td>\n",
       "      <td>19607</td>\n",
       "      <td>13679</td>\n",
       "      <td>12460</td>\n",
       "      <td>17382.000000</td>\n",
       "      <td>17382.000000</td>\n",
       "      <td>17382.000000</td>\n",
       "      <td>499</td>\n",
       "    </tr>\n",
       "    <tr>\n",
       "      <th>unique</th>\n",
       "      <td>54</td>\n",
       "      <td>1780</td>\n",
       "      <td>NaN</td>\n",
       "      <td>6510</td>\n",
       "      <td>2786</td>\n",
       "      <td>130</td>\n",
       "      <td>21</td>\n",
       "      <td>166</td>\n",
       "      <td>7640</td>\n",
       "      <td>3404</td>\n",
       "      <td>NaN</td>\n",
       "      <td>NaN</td>\n",
       "      <td>NaN</td>\n",
       "      <td>65</td>\n",
       "    </tr>\n",
       "    <tr>\n",
       "      <th>top</th>\n",
       "      <td>2015-P</td>\n",
       "      <td>EXH</td>\n",
       "      <td>NaN</td>\n",
       "      <td>Kline, Todd</td>\n",
       "      <td>Steam Mill</td>\n",
       "      <td>Other</td>\n",
       "      <td>United States</td>\n",
       "      <td>Ohio Valley Giant Pumpkin Growers Weigh-off</td>\n",
       "      <td>unknown</td>\n",
       "      <td>open</td>\n",
       "      <td>NaN</td>\n",
       "      <td>NaN</td>\n",
       "      <td>NaN</td>\n",
       "      <td>Big Zac</td>\n",
       "    </tr>\n",
       "    <tr>\n",
       "      <th>freq</th>\n",
       "      <td>1417</td>\n",
       "      <td>1309</td>\n",
       "      <td>NaN</td>\n",
       "      <td>80</td>\n",
       "      <td>208</td>\n",
       "      <td>1572</td>\n",
       "      <td>11904</td>\n",
       "      <td>559</td>\n",
       "      <td>195</td>\n",
       "      <td>1861</td>\n",
       "      <td>NaN</td>\n",
       "      <td>NaN</td>\n",
       "      <td>NaN</td>\n",
       "      <td>246</td>\n",
       "    </tr>\n",
       "    <tr>\n",
       "      <th>mean</th>\n",
       "      <td>NaN</td>\n",
       "      <td>NaN</td>\n",
       "      <td>498.848803</td>\n",
       "      <td>NaN</td>\n",
       "      <td>NaN</td>\n",
       "      <td>NaN</td>\n",
       "      <td>NaN</td>\n",
       "      <td>NaN</td>\n",
       "      <td>NaN</td>\n",
       "      <td>NaN</td>\n",
       "      <td>202.238005</td>\n",
       "      <td>489.077436</td>\n",
       "      <td>0.608503</td>\n",
       "      <td>NaN</td>\n",
       "    </tr>\n",
       "    <tr>\n",
       "      <th>std</th>\n",
       "      <td>NaN</td>\n",
       "      <td>NaN</td>\n",
       "      <td>503.200524</td>\n",
       "      <td>NaN</td>\n",
       "      <td>NaN</td>\n",
       "      <td>NaN</td>\n",
       "      <td>NaN</td>\n",
       "      <td>NaN</td>\n",
       "      <td>NaN</td>\n",
       "      <td>NaN</td>\n",
       "      <td>154.896698</td>\n",
       "      <td>531.495729</td>\n",
       "      <td>19.382001</td>\n",
       "      <td>NaN</td>\n",
       "    </tr>\n",
       "    <tr>\n",
       "      <th>min</th>\n",
       "      <td>NaN</td>\n",
       "      <td>NaN</td>\n",
       "      <td>0.100000</td>\n",
       "      <td>NaN</td>\n",
       "      <td>NaN</td>\n",
       "      <td>NaN</td>\n",
       "      <td>NaN</td>\n",
       "      <td>NaN</td>\n",
       "      <td>NaN</td>\n",
       "      <td>NaN</td>\n",
       "      <td>0.000000</td>\n",
       "      <td>0.000000</td>\n",
       "      <td>-100.000000</td>\n",
       "      <td>NaN</td>\n",
       "    </tr>\n",
       "    <tr>\n",
       "      <th>25%</th>\n",
       "      <td>NaN</td>\n",
       "      <td>NaN</td>\n",
       "      <td>86.225000</td>\n",
       "      <td>NaN</td>\n",
       "      <td>NaN</td>\n",
       "      <td>NaN</td>\n",
       "      <td>NaN</td>\n",
       "      <td>NaN</td>\n",
       "      <td>NaN</td>\n",
       "      <td>NaN</td>\n",
       "      <td>0.000000</td>\n",
       "      <td>0.000000</td>\n",
       "      <td>-3.000000</td>\n",
       "      <td>NaN</td>\n",
       "    </tr>\n",
       "    <tr>\n",
       "      <th>50%</th>\n",
       "      <td>NaN</td>\n",
       "      <td>NaN</td>\n",
       "      <td>307.500000</td>\n",
       "      <td>NaN</td>\n",
       "      <td>NaN</td>\n",
       "      <td>NaN</td>\n",
       "      <td>NaN</td>\n",
       "      <td>NaN</td>\n",
       "      <td>NaN</td>\n",
       "      <td>NaN</td>\n",
       "      <td>233.000000</td>\n",
       "      <td>290.000000</td>\n",
       "      <td>0.000000</td>\n",
       "      <td>NaN</td>\n",
       "    </tr>\n",
       "    <tr>\n",
       "      <th>75%</th>\n",
       "      <td>NaN</td>\n",
       "      <td>NaN</td>\n",
       "      <td>828.500000</td>\n",
       "      <td>NaN</td>\n",
       "      <td>NaN</td>\n",
       "      <td>NaN</td>\n",
       "      <td>NaN</td>\n",
       "      <td>NaN</td>\n",
       "      <td>NaN</td>\n",
       "      <td>NaN</td>\n",
       "      <td>338.000000</td>\n",
       "      <td>873.000000</td>\n",
       "      <td>3.000000</td>\n",
       "      <td>NaN</td>\n",
       "    </tr>\n",
       "    <tr>\n",
       "      <th>max</th>\n",
       "      <td>NaN</td>\n",
       "      <td>NaN</td>\n",
       "      <td>2702.900000</td>\n",
       "      <td>NaN</td>\n",
       "      <td>NaN</td>\n",
       "      <td>NaN</td>\n",
       "      <td>NaN</td>\n",
       "      <td>NaN</td>\n",
       "      <td>NaN</td>\n",
       "      <td>NaN</td>\n",
       "      <td>1132.000000</td>\n",
       "      <td>11033.000000</td>\n",
       "      <td>830.000000</td>\n",
       "      <td>NaN</td>\n",
       "    </tr>\n",
       "  </tbody>\n",
       "</table>\n",
       "</div>"
      ],
      "text/plain": [
       "            id  place    weight_lbs  grower_name        city state_prov  \\\n",
       "count    19607  19607  19607.000000        19607       17645      19607   \n",
       "unique      54   1780           NaN         6510        2786        130   \n",
       "top     2015-P    EXH           NaN  Kline, Todd  Steam Mill      Other   \n",
       "freq      1417   1309           NaN           80         208       1572   \n",
       "mean       NaN    NaN    498.848803          NaN         NaN        NaN   \n",
       "std        NaN    NaN    503.200524          NaN         NaN        NaN   \n",
       "min        NaN    NaN      0.100000          NaN         NaN        NaN   \n",
       "25%        NaN    NaN     86.225000          NaN         NaN        NaN   \n",
       "50%        NaN    NaN    307.500000          NaN         NaN        NaN   \n",
       "75%        NaN    NaN    828.500000          NaN         NaN        NaN   \n",
       "max        NaN    NaN   2702.900000          NaN         NaN        NaN   \n",
       "\n",
       "              country                                     gpc_site  \\\n",
       "count           19607                                        19607   \n",
       "unique             21                                          166   \n",
       "top     United States  Ohio Valley Giant Pumpkin Growers Weigh-off   \n",
       "freq            11904                                          559   \n",
       "mean              NaN                                          NaN   \n",
       "std               NaN                                          NaN   \n",
       "min               NaN                                          NaN   \n",
       "25%               NaN                                          NaN   \n",
       "50%               NaN                                          NaN   \n",
       "75%               NaN                                          NaN   \n",
       "max               NaN                                          NaN   \n",
       "\n",
       "       seed_mother pollinator_father           ott    est_weight  \\\n",
       "count        13679             12460  17382.000000  17382.000000   \n",
       "unique        7640              3404           NaN           NaN   \n",
       "top        unknown              open           NaN           NaN   \n",
       "freq           195              1861           NaN           NaN   \n",
       "mean           NaN               NaN    202.238005    489.077436   \n",
       "std            NaN               NaN    154.896698    531.495729   \n",
       "min            NaN               NaN      0.000000      0.000000   \n",
       "25%            NaN               NaN      0.000000      0.000000   \n",
       "50%            NaN               NaN    233.000000    290.000000   \n",
       "75%            NaN               NaN    338.000000    873.000000   \n",
       "max            NaN               NaN   1132.000000  11033.000000   \n",
       "\n",
       "           pct_chart  variety  \n",
       "count   17382.000000      499  \n",
       "unique           NaN       65  \n",
       "top              NaN  Big Zac  \n",
       "freq             NaN      246  \n",
       "mean        0.608503      NaN  \n",
       "std        19.382001      NaN  \n",
       "min      -100.000000      NaN  \n",
       "25%        -3.000000      NaN  \n",
       "50%         0.000000      NaN  \n",
       "75%         3.000000      NaN  \n",
       "max       830.000000      NaN  "
      ]
     },
     "execution_count": 28,
     "metadata": {},
     "output_type": "execute_result"
    }
   ],
   "source": [
    "train_df.describe(include=\"all\")"
   ]
  },
  {
   "cell_type": "code",
   "execution_count": null,
   "id": "2cc1a6f8-3463-4222-acad-8faf37392b0c",
   "metadata": {},
   "outputs": [],
   "source": []
  },
  {
   "cell_type": "code",
   "execution_count": 8,
   "id": "806517d4-934d-45aa-8e54-038c8dc05eac",
   "metadata": {},
   "outputs": [
    {
     "data": {
      "application/vnd.vegalite.v4+json": {
       "$schema": "https://vega.github.io/schema/vega-lite/v4.8.1.json",
       "config": {
        "view": {
         "continuousHeight": 300,
         "continuousWidth": 400
        }
       },
       "data": {
        "url": "http://localhost:19006/a3432675950ccccc725b01a62127908b.json"
       },
       "encoding": {
        "x": {
         "bin": {
          "maxbins": 40
         },
         "field": "weight_lbs",
         "type": "quantitative"
        },
        "y": {
         "aggregate": "count",
         "type": "quantitative"
        }
       },
       "height": 200,
       "mark": "bar",
       "width": 300
      },
      "image/png": "[encoded data removed]",
      "text/plain": [
       "<VegaLite 4 object>\n",
       "\n",
       "If you see this message, it means the renderer has not been properly enabled\n",
       "for the frontend that you are using. For more information, see\n",
       "https://altair-viz.github.io/user_guide/troubleshooting.html\n"
      ]
     },
     "execution_count": 8,
     "metadata": {},
     "output_type": "execute_result"
    }
   ],
   "source": [
    "weight_dist_plot = (\n",
    "    alt.Chart(train_df)\n",
    "    .mark_bar()\n",
    "    .encode(\n",
    "        alt.X(\"weight_lbs\", bin=alt.Bin(maxbins=40)),\n",
    "        y=\"count()\",\n",
    "    )\n",
    "    .properties(width=300, height=200)\n",
    ")\n",
    "weight_dist_plot"
   ]
  },
  {
   "cell_type": "code",
   "execution_count": 9,
   "id": "eb944b61-dded-42db-ade0-d3f3a656d770",
   "metadata": {},
   "outputs": [
    {
     "data": {
      "application/vnd.vegalite.v4+json": {
       "$schema": "https://vega.github.io/schema/vega-lite/v4.8.1.json",
       "config": {
        "view": {
         "continuousHeight": 300,
         "continuousWidth": 400
        }
       },
       "repeat": [
        "ott",
        "est_weight",
        "pct_chart"
       ],
       "spec": {
        "data": {
         "url": "http://localhost:19006/a3432675950ccccc725b01a62127908b.json"
        },
        "encoding": {
         "x": {
          "bin": {
           "maxbins": 40
          },
          "field": {
           "repeat": "repeat"
          },
          "type": "quantitative"
         },
         "y": {
          "aggregate": "count",
          "type": "quantitative"
         }
        },
        "height": 200,
        "mark": "bar",
        "width": 300
       }
      },
      "image/png": "[encoded data removed]",
      "text/plain": [
       "<VegaLite 4 object>\n",
       "\n",
       "If you see this message, it means the renderer has not been properly enabled\n",
       "for the frontend that you are using. For more information, see\n",
       "https://altair-viz.github.io/user_guide/troubleshooting.html\n"
      ]
     },
     "execution_count": 9,
     "metadata": {},
     "output_type": "execute_result"
    }
   ],
   "source": [
    "alt.Chart(train_df).mark_bar().encode(\n",
    "    alt.X(\"ott\", bin=alt.Bin(maxbins=40)),\n",
    "    y=\"count()\",\n",
    ").properties(width=300, height=200).repeat([\"ott\", \"est_weight\", \"pct_chart\"])"
   ]
  },
  {
   "cell_type": "code",
   "execution_count": 31,
   "id": "274fef72-ed67-4cd4-8e0e-091a2af9ae3c",
   "metadata": {},
   "outputs": [
    {
     "data": {
      "application/vnd.vegalite.v4+json": {
       "$schema": "https://vega.github.io/schema/vega-lite/v4.8.1.json",
       "config": {
        "view": {
         "continuousHeight": 300,
         "continuousWidth": 400
        }
       },
       "data": {
        "url": "http://localhost:16485/d7c5c664ec764da40303c46094d17757.json"
       },
       "encoding": {
        "x": {
         "aggregate": "count",
         "type": "quantitative"
        },
        "y": {
         "field": "country",
         "type": "nominal"
        }
       },
       "height": 200,
       "mark": "bar",
       "width": 300
      },
      "image/png": "[encoded data removed]",
      "text/plain": [
       "<VegaLite 4 object>\n",
       "\n",
       "If you see this message, it means the renderer has not been properly enabled\n",
       "for the frontend that you are using. For more information, see\n",
       "https://altair-viz.github.io/user_guide/troubleshooting.html\n"
      ]
     },
     "execution_count": 31,
     "metadata": {},
     "output_type": "execute_result"
    }
   ],
   "source": [
    "alt.Chart(train_df).mark_bar().encode(x=\"count()\", y=alt.Y(\"country\")).properties(\n",
    "    width=300, height=200\n",
    ")"
   ]
  },
  {
   "cell_type": "code",
   "execution_count": 44,
   "id": "dd4fc5de-651b-4e52-9b3f-c93479f49e67",
   "metadata": {},
   "outputs": [],
   "source": [
    "state_dist = (\n",
    "    alt.Chart(train_df, title=\"Distribution of State/Province\")\n",
    "    .mark_bar()\n",
    "    .encode(y=\"count()\", x=alt.X(\"state_prov\", axis=None))\n",
    "    .properties(width=300, height=200)\n",
    ")"
   ]
  },
  {
   "cell_type": "code",
   "execution_count": 45,
   "id": "5b51dbb7-ece1-400e-8483-97f5f14b3ec3",
   "metadata": {},
   "outputs": [],
   "source": [
    "gpc_dist = (\n",
    "    alt.Chart(train_df, title=\"Distribution of GPC Site\")\n",
    "    .mark_bar()\n",
    "    .encode(y=\"count()\", x=alt.X(\"gpc_site\", axis=None))\n",
    "    .properties(width=300, height=200)\n",
    ")"
   ]
  },
  {
   "cell_type": "code",
   "execution_count": 46,
   "id": "a230715a-708a-425b-bb7c-49f37edd2bad",
   "metadata": {},
   "outputs": [],
   "source": [
    "city_dist = (\n",
    "    alt.Chart(train_df, title=\"Distribution of city\")\n",
    "    .mark_point(opacity=0.5, clip=True)\n",
    "    .encode(\n",
    "        y=alt.Y(\"count()\", scale=alt.Scale(domain=(0, 100))), x=alt.X(\"city\", axis=None)\n",
    "    )\n",
    "    .properties(width=300, height=200)\n",
    ")"
   ]
  },
  {
   "cell_type": "code",
   "execution_count": 47,
   "id": "4823873c-b879-400d-9ab2-c58f70bf0b0f",
   "metadata": {},
   "outputs": [
    {
     "data": {
      "application/vnd.vegalite.v4+json": {
       "$schema": "https://vega.github.io/schema/vega-lite/v4.8.1.json",
       "config": {
        "view": {
         "continuousHeight": 300,
         "continuousWidth": 400
        }
       },
       "data": {
        "url": "http://localhost:16485/d7c5c664ec764da40303c46094d17757.json"
       },
       "hconcat": [
        {
         "encoding": {
          "x": {
           "axis": null,
           "field": "state_prov",
           "type": "nominal"
          },
          "y": {
           "aggregate": "count",
           "type": "quantitative"
          }
         },
         "height": 200,
         "mark": "bar",
         "title": "Distribution of State/Province",
         "width": 300
        },
        {
         "encoding": {
          "x": {
           "axis": null,
           "field": "city",
           "type": "nominal"
          },
          "y": {
           "aggregate": "count",
           "scale": {
            "domain": [
             0,
             100
            ]
           },
           "type": "quantitative"
          }
         },
         "height": 200,
         "mark": {
          "clip": true,
          "opacity": 0.5,
          "type": "point"
         },
         "title": "Distribution of city",
         "width": 300
        },
        {
         "encoding": {
          "x": {
           "axis": null,
           "field": "gpc_site",
           "type": "nominal"
          },
          "y": {
           "aggregate": "count",
           "type": "quantitative"
          }
         },
         "height": 200,
         "mark": "bar",
         "title": "Distribution of GPC Site",
         "width": 300
        }
       ]
      },
      "image/png": "[encoded data removed]",
      "text/plain": [
       "<VegaLite 4 object>\n",
       "\n",
       "If you see this message, it means the renderer has not been properly enabled\n",
       "for the frontend that you are using. For more information, see\n",
       "https://altair-viz.github.io/user_guide/troubleshooting.html\n"
      ]
     },
     "execution_count": 47,
     "metadata": {},
     "output_type": "execute_result"
    }
   ],
   "source": [
    "alt.hconcat(state_dist, city_dist, gpc_dist)"
   ]
  },
  {
   "cell_type": "code",
   "execution_count": 10,
   "id": "ce2606c3-81b3-49e3-a642-670d836f29f3",
   "metadata": {},
   "outputs": [
    {
     "data": {
      "application/vnd.vegalite.v4+json": {
       "$schema": "https://vega.github.io/schema/vega-lite/v4.8.1.json",
       "config": {
        "view": {
         "continuousHeight": 300,
         "continuousWidth": 400
        }
       },
       "data": {
        "url": "http://localhost:19006/a3432675950ccccc725b01a62127908b.json"
       },
       "encoding": {
        "x": {
         "field": "ott",
         "type": "quantitative"
        },
        "y": {
         "aggregate": "mean",
         "field": "weight_lbs",
         "type": "quantitative"
        }
       },
       "height": 200,
       "mark": "point",
       "title": "Mean Weight Vs OTT",
       "width": 300
      },
      "image/png": "[encoded data removed]",
      "text/plain": [
       "<VegaLite 4 object>\n",
       "\n",
       "If you see this message, it means the renderer has not been properly enabled\n",
       "for the frontend that you are using. For more information, see\n",
       "https://altair-viz.github.io/user_guide/troubleshooting.html\n"
      ]
     },
     "execution_count": 10,
     "metadata": {},
     "output_type": "execute_result"
    }
   ],
   "source": [
    "# avg weight vs OTT\n",
    "ott = (\n",
    "    alt.Chart(train_df, title=\"Mean Weight Vs OTT\")\n",
    "    .mark_point()\n",
    "    .encode(x=\"ott\", y=\"mean(weight_lbs)\")\n",
    "    .properties(width=300, height=200)\n",
    ")\n",
    "ott"
   ]
  },
  {
   "cell_type": "code",
   "execution_count": 11,
   "id": "927a9f16-f49b-41a3-8bfc-3bc29a878c0d",
   "metadata": {},
   "outputs": [
    {
     "data": {
      "application/vnd.vegalite.v4+json": {
       "$schema": "https://vega.github.io/schema/vega-lite/v4.8.1.json",
       "config": {
        "view": {
         "continuousHeight": 300,
         "continuousWidth": 400
        }
       },
       "data": {
        "url": "http://localhost:19006/a3432675950ccccc725b01a62127908b.json"
       },
       "layer": [
        {
         "encoding": {
          "x": {
           "field": "weight_lbs",
           "type": "quantitative"
          },
          "y": {
           "field": "country",
           "type": "nominal"
          }
         },
         "height": 300,
         "mark": "boxplot",
         "title": "Mean Weight Vs Country",
         "width": 300
        },
        {
         "encoding": {
          "x": {
           "aggregate": "mean",
           "field": "weight_lbs",
           "type": "quantitative"
          },
          "y": {
           "field": "country",
           "type": "nominal"
          }
         },
         "mark": {
          "color": "white",
          "type": "circle"
         }
        }
       ]
      },
      "image/png": "[encoded data removed]",
      "text/plain": [
       "<VegaLite 4 object>\n",
       "\n",
       "If you see this message, it means the renderer has not been properly enabled\n",
       "for the frontend that you are using. For more information, see\n",
       "https://altair-viz.github.io/user_guide/troubleshooting.html\n"
      ]
     },
     "execution_count": 11,
     "metadata": {},
     "output_type": "execute_result"
    }
   ],
   "source": [
    "# avg weight by country\n",
    "plot = (\n",
    "    alt.Chart(train_df, title=\"Mean Weight Vs Country\")\n",
    "    .mark_boxplot()\n",
    "    .encode(x=\"weight_lbs\", y=alt.Y(\"country\"))\n",
    "    .properties(width=300, height=300)\n",
    ")\n",
    "\n",
    "means = (\n",
    "    alt.Chart(train_df)\n",
    "    .mark_circle(color=\"white\")\n",
    "    .encode(x=\"mean(weight_lbs)\", y=alt.Y(\"country\"))\n",
    ")\n",
    "\n",
    "country = plot + means\n",
    "country"
   ]
  },
  {
   "cell_type": "code",
   "execution_count": 24,
   "id": "28c73254-00c3-429a-b921-973fc780067c",
   "metadata": {},
   "outputs": [
    {
     "data": {
      "application/vnd.vegalite.v4+json": {
       "$schema": "https://vega.github.io/schema/vega-lite/v4.8.1.json",
       "config": {
        "view": {
         "continuousHeight": 300,
         "continuousWidth": 400
        }
       },
       "data": {
        "url": "http://localhost:19006/a3432675950ccccc725b01a62127908b.json"
       },
       "encoding": {
        "x": {
         "field": "country",
         "sort": "y",
         "type": "nominal"
        },
        "y": {
         "aggregate": "mean",
         "field": "weight_lbs",
         "scale": {
          "domain": [
           0,
           2500
          ]
         },
         "type": "quantitative"
        }
       },
       "height": 200,
       "mark": {
        "clip": true,
        "opacity": 0.5,
        "type": "point"
       },
       "title": "Mean Weight Vs Country",
       "width": 300
      },
      "image/png": "[encoded data removed]",
      "text/plain": [
       "<VegaLite 4 object>\n",
       "\n",
       "If you see this message, it means the renderer has not been properly enabled\n",
       "for the frontend that you are using. For more information, see\n",
       "https://altair-viz.github.io/user_guide/troubleshooting.html\n"
      ]
     },
     "execution_count": 24,
     "metadata": {},
     "output_type": "execute_result"
    }
   ],
   "source": [
    "# avg weight by country\n",
    "country = (\n",
    "    alt.Chart(train_df, title=\"Mean Weight Vs Country\")\n",
    "    .mark_point(opacity=0.5, clip=True)\n",
    "    .encode(\n",
    "        y=alt.Y(\"mean(weight_lbs)\", scale=alt.Scale(domain=(0, 2500))),\n",
    "        x=alt.X(\"country\", sort=\"y\"),\n",
    "    )\n",
    "    .properties(width=300, height=200)\n",
    ")\n",
    "country"
   ]
  },
  {
   "cell_type": "code",
   "execution_count": 13,
   "id": "88f1859f-d6b3-4bbe-b251-a8399935b3ed",
   "metadata": {},
   "outputs": [
    {
     "data": {
      "application/vnd.vegalite.v4+json": {
       "$schema": "https://vega.github.io/schema/vega-lite/v4.8.1.json",
       "config": {
        "view": {
         "continuousHeight": 300,
         "continuousWidth": 400
        }
       },
       "data": {
        "url": "http://localhost:19006/a3432675950ccccc725b01a62127908b.json"
       },
       "encoding": {
        "x": {
         "axis": null,
         "field": "city",
         "sort": "y",
         "type": "nominal"
        },
        "y": {
         "aggregate": "mean",
         "field": "weight_lbs",
         "scale": {
          "domain": [
           0,
           2500
          ]
         },
         "type": "quantitative"
        }
       },
       "height": 200,
       "mark": {
        "clip": true,
        "opacity": 0.5,
        "type": "point"
       },
       "title": "Mean Weight Vs City",
       "width": 300
      },
      "image/png": "[encoded data removed]",
      "text/plain": [
       "<VegaLite 4 object>\n",
       "\n",
       "If you see this message, it means the renderer has not been properly enabled\n",
       "for the frontend that you are using. For more information, see\n",
       "https://altair-viz.github.io/user_guide/troubleshooting.html\n"
      ]
     },
     "execution_count": 13,
     "metadata": {},
     "output_type": "execute_result"
    }
   ],
   "source": [
    "# avg weight by city\n",
    "city = (\n",
    "    alt.Chart(train_df, title=\"Mean Weight Vs City\")\n",
    "    .mark_point(opacity=0.5, clip=True)\n",
    "    .encode(\n",
    "        y=alt.Y(\"mean(weight_lbs)\", scale=alt.Scale(domain=(0, 2500))),\n",
    "        x=alt.X(\"city\", axis=None, sort=\"y\"),\n",
    "    )\n",
    "    .properties(width=300, height=200)\n",
    ")\n",
    "city"
   ]
  },
  {
   "cell_type": "code",
   "execution_count": 21,
   "id": "1d79c688-d131-4ea1-9b8d-694f47d7ff07",
   "metadata": {},
   "outputs": [
    {
     "data": {
      "application/vnd.vegalite.v4+json": {
       "$schema": "https://vega.github.io/schema/vega-lite/v4.8.1.json",
       "config": {
        "view": {
         "continuousHeight": 300,
         "continuousWidth": 400
        }
       },
       "data": {
        "url": "http://localhost:19006/a3432675950ccccc725b01a62127908b.json"
       },
       "encoding": {
        "x": {
         "axis": null,
         "field": "state_prov",
         "sort": "y",
         "type": "nominal"
        },
        "y": {
         "aggregate": "mean",
         "field": "weight_lbs",
         "scale": {
          "domain": [
           0,
           2500
          ]
         },
         "type": "quantitative"
        }
       },
       "height": 200,
       "mark": {
        "clip": true,
        "opacity": 0.5,
        "type": "point"
       },
       "title": "Mean Weight Vs State/Prov",
       "width": 300
      },
      "image/png": "[encoded data removed]",
      "text/plain": [
       "<VegaLite 4 object>\n",
       "\n",
       "If you see this message, it means the renderer has not been properly enabled\n",
       "for the frontend that you are using. For more information, see\n",
       "https://altair-viz.github.io/user_guide/troubleshooting.html\n"
      ]
     },
     "execution_count": 21,
     "metadata": {},
     "output_type": "execute_result"
    }
   ],
   "source": [
    "# avg weight by state/provience\n",
    "state = (\n",
    "    alt.Chart(train_df, title=\"Mean Weight Vs State/Prov\")\n",
    "    .mark_point(opacity=0.5, clip=True)\n",
    "    .encode(\n",
    "        y=alt.Y(\"mean(weight_lbs)\", scale=alt.Scale(domain=(0, 2500))),\n",
    "        x=alt.X(\"state_prov\", axis=None, sort=\"y\"),\n",
    "    )\n",
    "    .properties(width=300, height=200)\n",
    ")\n",
    "state"
   ]
  },
  {
   "cell_type": "code",
   "execution_count": 15,
   "id": "1c44dd85-43a9-4700-a582-b56b710ddca6",
   "metadata": {},
   "outputs": [
    {
     "data": {
      "application/vnd.vegalite.v4+json": {
       "$schema": "https://vega.github.io/schema/vega-lite/v4.8.1.json",
       "config": {
        "view": {
         "continuousHeight": 300,
         "continuousWidth": 400
        }
       },
       "data": {
        "url": "http://localhost:19006/a3432675950ccccc725b01a62127908b.json"
       },
       "encoding": {
        "x": {
         "axis": null,
         "field": "gpc_site",
         "sort": "y",
         "type": "nominal"
        },
        "y": {
         "aggregate": "mean",
         "field": "weight_lbs",
         "scale": {
          "domain": [
           0,
           2500
          ]
         },
         "type": "quantitative"
        }
       },
       "height": 200,
       "mark": {
        "clip": true,
        "opacity": 0.5,
        "type": "point"
       },
       "title": "Mean Weight Vs GPC Site",
       "width": 300
      },
      "image/png": "[encoded data removed]",
      "text/plain": [
       "<VegaLite 4 object>\n",
       "\n",
       "If you see this message, it means the renderer has not been properly enabled\n",
       "for the frontend that you are using. For more information, see\n",
       "https://altair-viz.github.io/user_guide/troubleshooting.html\n"
      ]
     },
     "execution_count": 15,
     "metadata": {},
     "output_type": "execute_result"
    }
   ],
   "source": [
    "# avg weight by gpc_site\n",
    "gpc_site = (\n",
    "    alt.Chart(train_df, title=\"Mean Weight Vs GPC Site\")\n",
    "    .mark_point(opacity=0.5, clip=True)\n",
    "    .encode(\n",
    "        y=alt.Y(\"mean(weight_lbs)\", scale=alt.Scale(domain=(0, 2500))),\n",
    "        x=alt.X(\"gpc_site\", axis=None, sort=\"y\"),\n",
    "    )\n",
    "    .properties(width=300, height=200)\n",
    ")\n",
    "gpc_site"
   ]
  },
  {
   "cell_type": "code",
   "execution_count": 19,
   "id": "018f90c1-d24f-477a-b0e7-ea280aaad617",
   "metadata": {},
   "outputs": [
    {
     "data": {
      "application/vnd.vegalite.v4+json": {
       "$schema": "https://vega.github.io/schema/vega-lite/v4.8.1.json",
       "config": {
        "view": {
         "continuousHeight": 300,
         "continuousWidth": 400
        }
       },
       "data": {
        "url": "http://localhost:19006/a3432675950ccccc725b01a62127908b.json"
       },
       "encoding": {
        "x": {
         "field": "type",
         "sort": "y",
         "type": "nominal"
        },
        "y": {
         "aggregate": "mean",
         "field": "weight_lbs",
         "scale": {
          "domain": [
           0,
           2500
          ]
         },
         "type": "quantitative"
        }
       },
       "height": 200,
       "mark": {
        "clip": true,
        "opacity": 0.5,
        "type": "point"
       },
       "title": "Mean Weight Vs type",
       "width": 300
      },
      "image/png": "[encoded data removed]",
      "text/plain": [
       "<VegaLite 4 object>\n",
       "\n",
       "If you see this message, it means the renderer has not been properly enabled\n",
       "for the frontend that you are using. For more information, see\n",
       "https://altair-viz.github.io/user_guide/troubleshooting.html\n"
      ]
     },
     "execution_count": 19,
     "metadata": {},
     "output_type": "execute_result"
    }
   ],
   "source": [
    "# avg weight by type\n",
    "type = (\n",
    "    alt.Chart(train_df, title=\"Mean Weight Vs type\")\n",
    "    .mark_point(opacity=0.5, clip=True)\n",
    "    .encode(\n",
    "        y=alt.Y(\"mean(weight_lbs)\", scale=alt.Scale(domain=(0, 2500))),\n",
    "        x=alt.X(\"type\", sort=\"y\"),\n",
    "    )\n",
    "    .properties(width=300, height=200)\n",
    ")\n",
    "type"
   ]
  },
  {
   "cell_type": "code",
   "execution_count": 1,
   "id": "c92ad887-3170-4caf-b2cf-c1bc17ee7a68",
   "metadata": {},
   "outputs": [
    {
     "ename": "NameError",
     "evalue": "name 'alt' is not defined",
     "output_type": "error",
     "traceback": [
      "\u001b[1;31m---------------------------------------------------------------------------\u001b[0m",
      "\u001b[1;31mNameError\u001b[0m                                 Traceback (most recent call last)",
      "\u001b[1;32m~\\AppData\\Local\\Temp/ipykernel_15956/1157443086.py\u001b[0m in \u001b[0;36m<module>\u001b[1;34m\u001b[0m\n\u001b[1;32m----> 1\u001b[1;33m compiled = alt.vconcat(\n\u001b[0m\u001b[0;32m      2\u001b[0m     \u001b[0malt\u001b[0m\u001b[1;33m.\u001b[0m\u001b[0mhconcat\u001b[0m\u001b[1;33m(\u001b[0m\u001b[0mott\u001b[0m\u001b[1;33m,\u001b[0m \u001b[0mtype\u001b[0m\u001b[1;33m)\u001b[0m\u001b[1;33m,\u001b[0m \u001b[0malt\u001b[0m\u001b[1;33m.\u001b[0m\u001b[0mhconcat\u001b[0m\u001b[1;33m(\u001b[0m\u001b[0mcountry\u001b[0m\u001b[1;33m,\u001b[0m \u001b[0mcity\u001b[0m\u001b[1;33m)\u001b[0m\u001b[1;33m,\u001b[0m \u001b[0malt\u001b[0m\u001b[1;33m.\u001b[0m\u001b[0mhconcat\u001b[0m\u001b[1;33m(\u001b[0m\u001b[0mstate\u001b[0m\u001b[1;33m,\u001b[0m \u001b[0mgpc_site\u001b[0m\u001b[1;33m)\u001b[0m\u001b[1;33m\u001b[0m\u001b[1;33m\u001b[0m\u001b[0m\n\u001b[0;32m      3\u001b[0m )\n\u001b[0;32m      4\u001b[0m \u001b[0mcompiled\u001b[0m\u001b[1;33m\u001b[0m\u001b[1;33m\u001b[0m\u001b[0m\n\u001b[0;32m      5\u001b[0m \u001b[0mtype\u001b[0m\u001b[1;33m.\u001b[0m\u001b[0msave\u001b[0m\u001b[1;33m(\u001b[0m\u001b[1;34m\"compiled.png\"\u001b[0m\u001b[1;33m)\u001b[0m\u001b[1;33m\u001b[0m\u001b[1;33m\u001b[0m\u001b[0m\n",
      "\u001b[1;31mNameError\u001b[0m: name 'alt' is not defined"
     ]
    }
   ],
   "source": [
    "compiled = alt.vconcat(\n",
    "    alt.hconcat(ott, type), alt.hconcat(country, city), alt.hconcat(state, gpc_site)\n",
    ")\n",
    "compiled\n",
    "type.save(\"compiled.png\")"
   ]
  },
  {
   "cell_type": "code",
   "execution_count": 12,
   "id": "58b00351-4c5d-4704-b3f9-ba1c833805e4",
   "metadata": {},
   "outputs": [
    {
     "data": {
      "text/html": [
       "<div>\n",
       "<style scoped>\n",
       "    .dataframe tbody tr th:only-of-type {\n",
       "        vertical-align: middle;\n",
       "    }\n",
       "\n",
       "    .dataframe tbody tr th {\n",
       "        vertical-align: top;\n",
       "    }\n",
       "\n",
       "    .dataframe thead th {\n",
       "        text-align: right;\n",
       "    }\n",
       "</style>\n",
       "<table border=\"1\" class=\"dataframe\">\n",
       "  <thead>\n",
       "    <tr style=\"text-align: right;\">\n",
       "      <th></th>\n",
       "      <th>level_0</th>\n",
       "      <th>level_1</th>\n",
       "      <th>corr</th>\n",
       "    </tr>\n",
       "  </thead>\n",
       "  <tbody>\n",
       "    <tr>\n",
       "      <th>0</th>\n",
       "      <td>ott</td>\n",
       "      <td>ott</td>\n",
       "      <td>1.000000</td>\n",
       "    </tr>\n",
       "    <tr>\n",
       "      <th>1</th>\n",
       "      <td>ott</td>\n",
       "      <td>year</td>\n",
       "      <td>0.026435</td>\n",
       "    </tr>\n",
       "    <tr>\n",
       "      <th>2</th>\n",
       "      <td>ott</td>\n",
       "      <td>weight_lbs</td>\n",
       "      <td>0.838827</td>\n",
       "    </tr>\n",
       "    <tr>\n",
       "      <th>3</th>\n",
       "      <td>year</td>\n",
       "      <td>ott</td>\n",
       "      <td>0.026435</td>\n",
       "    </tr>\n",
       "    <tr>\n",
       "      <th>4</th>\n",
       "      <td>year</td>\n",
       "      <td>year</td>\n",
       "      <td>1.000000</td>\n",
       "    </tr>\n",
       "    <tr>\n",
       "      <th>5</th>\n",
       "      <td>year</td>\n",
       "      <td>weight_lbs</td>\n",
       "      <td>0.027159</td>\n",
       "    </tr>\n",
       "    <tr>\n",
       "      <th>6</th>\n",
       "      <td>weight_lbs</td>\n",
       "      <td>ott</td>\n",
       "      <td>0.838827</td>\n",
       "    </tr>\n",
       "    <tr>\n",
       "      <th>7</th>\n",
       "      <td>weight_lbs</td>\n",
       "      <td>year</td>\n",
       "      <td>0.027159</td>\n",
       "    </tr>\n",
       "    <tr>\n",
       "      <th>8</th>\n",
       "      <td>weight_lbs</td>\n",
       "      <td>weight_lbs</td>\n",
       "      <td>1.000000</td>\n",
       "    </tr>\n",
       "  </tbody>\n",
       "</table>\n",
       "</div>"
      ],
      "text/plain": [
       "      level_0     level_1      corr\n",
       "0         ott         ott  1.000000\n",
       "1         ott        year  0.026435\n",
       "2         ott  weight_lbs  0.838827\n",
       "3        year         ott  0.026435\n",
       "4        year        year  1.000000\n",
       "5        year  weight_lbs  0.027159\n",
       "6  weight_lbs         ott  0.838827\n",
       "7  weight_lbs        year  0.027159\n",
       "8  weight_lbs  weight_lbs  1.000000"
      ]
     },
     "execution_count": 12,
     "metadata": {},
     "output_type": "execute_result"
    }
   ],
   "source": [
    "corr_df = (\n",
    "    train_df.corr(\"spearman\")\n",
    "    .abs()  # Use abs for negative correlation to stand out\n",
    "    .stack()  # Get df into long format for altair\n",
    "    .reset_index(name=\"corr\")\n",
    ")  # Name the index that is reset to avoid name collision\n",
    "corr_df"
   ]
  },
  {
   "cell_type": "code",
   "execution_count": null,
   "id": "69c68237-898f-4458-a337-30aa64e8813d",
   "metadata": {},
   "outputs": [],
   "source": []
  }
 ],
 "metadata": {
  "kernelspec": {
   "display_name": "Python [conda env:531]",
   "language": "python",
   "name": "conda-env-531-py"
  },
  "language_info": {
   "codemirror_mode": {
    "name": "ipython",
    "version": 3
   },
   "file_extension": ".py",
   "mimetype": "text/x-python",
   "name": "python",
   "nbconvert_exporter": "python",
   "pygments_lexer": "ipython3",
   "version": "3.9.7"
  }
 },
 "nbformat": 4,
 "nbformat_minor": 5
}
